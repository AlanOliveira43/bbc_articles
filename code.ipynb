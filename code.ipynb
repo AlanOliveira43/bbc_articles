{
 "cells": [
  {
   "cell_type": "code",
   "execution_count": 17,
   "metadata": {},
   "outputs": [
    {
     "name": "stdout",
     "output_type": "stream",
     "text": [
      "Requirement already satisfied: nbformat in c:\\users\\alan de castro\\appdata\\local\\programs\\python\\python311\\lib\\site-packages (5.10.4)Note: you may need to restart the kernel to use updated packages.\n",
      "\n",
      "Requirement already satisfied: fastjsonschema>=2.15 in c:\\users\\alan de castro\\appdata\\local\\programs\\python\\python311\\lib\\site-packages (from nbformat) (2.19.1)\n",
      "Requirement already satisfied: jsonschema>=2.6 in c:\\users\\alan de castro\\appdata\\local\\programs\\python\\python311\\lib\\site-packages (from nbformat) (4.21.1)\n",
      "Requirement already satisfied: jupyter-core!=5.0.*,>=4.12 in c:\\users\\alan de castro\\appdata\\roaming\\python\\python311\\site-packages (from nbformat) (5.3.1)\n",
      "Requirement already satisfied: traitlets>=5.1 in c:\\users\\alan de castro\\appdata\\roaming\\python\\python311\\site-packages (from nbformat) (5.9.0)\n",
      "Requirement already satisfied: attrs>=22.2.0 in c:\\users\\alan de castro\\appdata\\local\\programs\\python\\python311\\lib\\site-packages (from jsonschema>=2.6->nbformat) (23.2.0)\n",
      "Requirement already satisfied: jsonschema-specifications>=2023.03.6 in c:\\users\\alan de castro\\appdata\\local\\programs\\python\\python311\\lib\\site-packages (from jsonschema>=2.6->nbformat) (2023.12.1)\n",
      "Requirement already satisfied: referencing>=0.28.4 in c:\\users\\alan de castro\\appdata\\local\\programs\\python\\python311\\lib\\site-packages (from jsonschema>=2.6->nbformat) (0.34.0)\n",
      "Requirement already satisfied: rpds-py>=0.7.1 in c:\\users\\alan de castro\\appdata\\local\\programs\\python\\python311\\lib\\site-packages (from jsonschema>=2.6->nbformat) (0.18.0)\n",
      "Requirement already satisfied: platformdirs>=2.5 in c:\\users\\alan de castro\\appdata\\roaming\\python\\python311\\site-packages (from jupyter-core!=5.0.*,>=4.12->nbformat) (3.10.0)\n",
      "Requirement already satisfied: pywin32>=300 in c:\\users\\alan de castro\\appdata\\roaming\\python\\python311\\site-packages (from jupyter-core!=5.0.*,>=4.12->nbformat) (306)\n"
     ]
    },
    {
     "name": "stderr",
     "output_type": "stream",
     "text": [
      "\n",
      "[notice] A new release of pip is available: 23.1.2 -> 24.2\n",
      "[notice] To update, run: python.exe -m pip install --upgrade pip\n"
     ]
    },
    {
     "name": "stdout",
     "output_type": "stream",
     "text": [
      "Requirement already satisfied: plotly in c:\\users\\alan de castro\\appdata\\local\\programs\\python\\python311\\lib\\site-packages (5.20.0)\n",
      "Requirement already satisfied: tenacity>=6.2.0 in c:\\users\\alan de castro\\appdata\\local\\programs\\python\\python311\\lib\\site-packages (from plotly) (8.2.3)\n",
      "Requirement already satisfied: packaging in c:\\users\\alan de castro\\appdata\\local\\programs\\python\\python311\\lib\\site-packages (from plotly) (23.2)\n",
      "Note: you may need to restart the kernel to use updated packages.\n"
     ]
    },
    {
     "name": "stderr",
     "output_type": "stream",
     "text": [
      "\n",
      "[notice] A new release of pip is available: 23.1.2 -> 24.2\n",
      "[notice] To update, run: python.exe -m pip install --upgrade pip\n"
     ]
    },
    {
     "name": "stdout",
     "output_type": "stream",
     "text": [
      "Requirement already satisfied: spacy in c:\\users\\alan de castro\\appdata\\local\\programs\\python\\python311\\lib\\site-packages (3.7.4)\n",
      "Requirement already satisfied: spacy-legacy<3.1.0,>=3.0.11 in c:\\users\\alan de castro\\appdata\\local\\programs\\python\\python311\\lib\\site-packages (from spacy) (3.0.12)\n",
      "Requirement already satisfied: spacy-loggers<2.0.0,>=1.0.0 in c:\\users\\alan de castro\\appdata\\local\\programs\\python\\python311\\lib\\site-packages (from spacy) (1.0.5)\n",
      "Requirement already satisfied: murmurhash<1.1.0,>=0.28.0 in c:\\users\\alan de castro\\appdata\\local\\programs\\python\\python311\\lib\\site-packages (from spacy) (1.0.10)\n",
      "Requirement already satisfied: cymem<2.1.0,>=2.0.2 in c:\\users\\alan de castro\\appdata\\local\\programs\\python\\python311\\lib\\site-packages (from spacy) (2.0.8)\n",
      "Requirement already satisfied: preshed<3.1.0,>=3.0.2 in c:\\users\\alan de castro\\appdata\\local\\programs\\python\\python311\\lib\\site-packages (from spacy) (3.0.9)\n",
      "Requirement already satisfied: thinc<8.3.0,>=8.2.2 in c:\\users\\alan de castro\\appdata\\local\\programs\\python\\python311\\lib\\site-packages (from spacy) (8.2.3)\n",
      "Requirement already satisfied: wasabi<1.2.0,>=0.9.1 in c:\\users\\alan de castro\\appdata\\local\\programs\\python\\python311\\lib\\site-packages (from spacy) (1.1.2)\n",
      "Requirement already satisfied: srsly<3.0.0,>=2.4.3 in c:\\users\\alan de castro\\appdata\\local\\programs\\python\\python311\\lib\\site-packages (from spacy) (2.4.8)\n",
      "Requirement already satisfied: catalogue<2.1.0,>=2.0.6 in c:\\users\\alan de castro\\appdata\\local\\programs\\python\\python311\\lib\\site-packages (from spacy) (2.0.10)\n",
      "Requirement already satisfied: weasel<0.4.0,>=0.1.0 in c:\\users\\alan de castro\\appdata\\local\\programs\\python\\python311\\lib\\site-packages (from spacy) (0.3.4)\n",
      "Requirement already satisfied: typer<0.10.0,>=0.3.0 in c:\\users\\alan de castro\\appdata\\local\\programs\\python\\python311\\lib\\site-packages (from spacy) (0.9.4)\n",
      "Requirement already satisfied: smart-open<7.0.0,>=5.2.1 in c:\\users\\alan de castro\\appdata\\local\\programs\\python\\python311\\lib\\site-packages (from spacy) (6.4.0)\n",
      "Requirement already satisfied: tqdm<5.0.0,>=4.38.0 in c:\\users\\alan de castro\\appdata\\local\\programs\\python\\python311\\lib\\site-packages (from spacy) (4.66.1)\n",
      "Requirement already satisfied: requests<3.0.0,>=2.13.0 in c:\\users\\alan de castro\\appdata\\local\\programs\\python\\python311\\lib\\site-packages (from spacy) (2.31.0)\n",
      "Requirement already satisfied: pydantic!=1.8,!=1.8.1,<3.0.0,>=1.7.4 in c:\\users\\alan de castro\\appdata\\local\\programs\\python\\python311\\lib\\site-packages (from spacy) (2.6.4)\n",
      "Requirement already satisfied: jinja2 in c:\\users\\alan de castro\\appdata\\local\\programs\\python\\python311\\lib\\site-packages (from spacy) (3.1.3)\n",
      "Requirement already satisfied: setuptools in c:\\users\\alan de castro\\appdata\\local\\programs\\python\\python311\\lib\\site-packages (from spacy) (65.5.0)\n",
      "Requirement already satisfied: packaging>=20.0 in c:\\users\\alan de castro\\appdata\\local\\programs\\python\\python311\\lib\\site-packages (from spacy) (23.2)\n",
      "Requirement already satisfied: langcodes<4.0.0,>=3.2.0 in c:\\users\\alan de castro\\appdata\\local\\programs\\python\\python311\\lib\\site-packages (from spacy) (3.3.0)\n",
      "Requirement already satisfied: numpy>=1.19.0 in c:\\users\\alan de castro\\appdata\\local\\programs\\python\\python311\\lib\\site-packages (from spacy) (1.24.3)\n",
      "Requirement already satisfied: annotated-types>=0.4.0 in c:\\users\\alan de castro\\appdata\\local\\programs\\python\\python311\\lib\\site-packages (from pydantic!=1.8,!=1.8.1,<3.0.0,>=1.7.4->spacy) (0.6.0)\n",
      "Requirement already satisfied: pydantic-core==2.16.3 in c:\\users\\alan de castro\\appdata\\local\\programs\\python\\python311\\lib\\site-packages (from pydantic!=1.8,!=1.8.1,<3.0.0,>=1.7.4->spacy) (2.16.3)\n",
      "Requirement already satisfied: typing-extensions>=4.6.1 in c:\\users\\alan de castro\\appdata\\local\\programs\\python\\python311\\lib\\site-packages (from pydantic!=1.8,!=1.8.1,<3.0.0,>=1.7.4->spacy) (4.12.2)\n",
      "Requirement already satisfied: charset-normalizer<4,>=2 in c:\\users\\alan de castro\\appdata\\local\\programs\\python\\python311\\lib\\site-packages (from requests<3.0.0,>=2.13.0->spacy) (3.2.0)\n",
      "Requirement already satisfied: idna<4,>=2.5 in c:\\users\\alan de castro\\appdata\\local\\programs\\python\\python311\\lib\\site-packages (from requests<3.0.0,>=2.13.0->spacy) (3.4)\n",
      "Requirement already satisfied: urllib3<3,>=1.21.1 in c:\\users\\alan de castro\\appdata\\local\\programs\\python\\python311\\lib\\site-packages (from requests<3.0.0,>=2.13.0->spacy) (1.26.16)\n",
      "Requirement already satisfied: certifi>=2017.4.17 in c:\\users\\alan de castro\\appdata\\local\\programs\\python\\python311\\lib\\site-packages (from requests<3.0.0,>=2.13.0->spacy) (2023.7.22)\n",
      "Requirement already satisfied: blis<0.8.0,>=0.7.8 in c:\\users\\alan de castro\\appdata\\local\\programs\\python\\python311\\lib\\site-packages (from thinc<8.3.0,>=8.2.2->spacy) (0.7.11)\n",
      "Requirement already satisfied: confection<1.0.0,>=0.0.1 in c:\\users\\alan de castro\\appdata\\local\\programs\\python\\python311\\lib\\site-packages (from thinc<8.3.0,>=8.2.2->spacy) (0.1.4)\n",
      "Requirement already satisfied: colorama in c:\\users\\alan de castro\\appdata\\roaming\\python\\python311\\site-packages (from tqdm<5.0.0,>=4.38.0->spacy) (0.4.6)\n",
      "Requirement already satisfied: click<9.0.0,>=7.1.1 in c:\\users\\alan de castro\\appdata\\local\\programs\\python\\python311\\lib\\site-packages (from typer<0.10.0,>=0.3.0->spacy) (8.1.7)\n",
      "Requirement already satisfied: cloudpathlib<0.17.0,>=0.7.0 in c:\\users\\alan de castro\\appdata\\local\\programs\\python\\python311\\lib\\site-packages (from weasel<0.4.0,>=0.1.0->spacy) (0.16.0)\n",
      "Requirement already satisfied: MarkupSafe>=2.0 in c:\\users\\alan de castro\\appdata\\local\\programs\\python\\python311\\lib\\site-packages (from jinja2->spacy) (2.1.3)\n",
      "Note: you may need to restart the kernel to use updated packages.\n"
     ]
    },
    {
     "name": "stderr",
     "output_type": "stream",
     "text": [
      "\n",
      "[notice] A new release of pip is available: 23.1.2 -> 24.2\n",
      "[notice] To update, run: python.exe -m pip install --upgrade pip\n"
     ]
    },
    {
     "name": "stdout",
     "output_type": "stream",
     "text": [
      "Requirement already satisfied: nltk in c:\\users\\alan de castro\\appdata\\local\\programs\\python\\python311\\lib\\site-packages (3.8.1)\n",
      "Requirement already satisfied: click in c:\\users\\alan de castro\\appdata\\local\\programs\\python\\python311\\lib\\site-packages (from nltk) (8.1.7)\n",
      "Requirement already satisfied: joblib in c:\\users\\alan de castro\\appdata\\local\\programs\\python\\python311\\lib\\site-packages (from nltk) (1.3.2)\n",
      "Requirement already satisfied: regex>=2021.8.3 in c:\\users\\alan de castro\\appdata\\local\\programs\\python\\python311\\lib\\site-packages (from nltk) (2023.12.25)\n",
      "Requirement already satisfied: tqdm in c:\\users\\alan de castro\\appdata\\local\\programs\\python\\python311\\lib\\site-packages (from nltk) (4.66.1)\n",
      "Requirement already satisfied: colorama in c:\\users\\alan de castro\\appdata\\roaming\\python\\python311\\site-packages (from click->nltk) (0.4.6)\n",
      "Note: you may need to restart the kernel to use updated packages.\n"
     ]
    },
    {
     "name": "stderr",
     "output_type": "stream",
     "text": [
      "\n",
      "[notice] A new release of pip is available: 23.1.2 -> 24.2\n",
      "[notice] To update, run: python.exe -m pip install --upgrade pip\n"
     ]
    },
    {
     "name": "stdout",
     "output_type": "stream",
     "text": [
      "Requirement already satisfied: matplotlib in c:\\users\\alan de castro\\appdata\\local\\programs\\python\\python311\\lib\\site-packages (3.8.3)\n",
      "Requirement already satisfied: contourpy>=1.0.1 in c:\\users\\alan de castro\\appdata\\local\\programs\\python\\python311\\lib\\site-packages (from matplotlib) (1.2.0)\n",
      "Requirement already satisfied: cycler>=0.10 in c:\\users\\alan de castro\\appdata\\local\\programs\\python\\python311\\lib\\site-packages (from matplotlib) (0.12.1)\n",
      "Requirement already satisfied: fonttools>=4.22.0 in c:\\users\\alan de castro\\appdata\\local\\programs\\python\\python311\\lib\\site-packages (from matplotlib) (4.49.0)\n",
      "Requirement already satisfied: kiwisolver>=1.3.1 in c:\\users\\alan de castro\\appdata\\local\\programs\\python\\python311\\lib\\site-packages (from matplotlib) (1.4.5)\n",
      "Requirement already satisfied: numpy<2,>=1.21 in c:\\users\\alan de castro\\appdata\\local\\programs\\python\\python311\\lib\\site-packages (from matplotlib) (1.24.3)\n",
      "Requirement already satisfied: packaging>=20.0 in c:\\users\\alan de castro\\appdata\\local\\programs\\python\\python311\\lib\\site-packages (from matplotlib) (23.2)\n",
      "Requirement already satisfied: pillow>=8 in c:\\users\\alan de castro\\appdata\\local\\programs\\python\\python311\\lib\\site-packages (from matplotlib) (10.2.0)\n",
      "Requirement already satisfied: pyparsing>=2.3.1 in c:\\users\\alan de castro\\appdata\\local\\programs\\python\\python311\\lib\\site-packages (from matplotlib) (3.1.1)\n",
      "Requirement already satisfied: python-dateutil>=2.7 in c:\\users\\alan de castro\\appdata\\roaming\\python\\python311\\site-packages (from matplotlib) (2.8.2)\n",
      "Requirement already satisfied: six>=1.5 in c:\\users\\alan de castro\\appdata\\roaming\\python\\python311\\site-packages (from python-dateutil>=2.7->matplotlib) (1.16.0)\n",
      "Note: you may need to restart the kernel to use updated packages.\n"
     ]
    },
    {
     "name": "stderr",
     "output_type": "stream",
     "text": [
      "\n",
      "[notice] A new release of pip is available: 23.1.2 -> 24.2\n",
      "[notice] To update, run: python.exe -m pip install --upgrade pip\n"
     ]
    },
    {
     "name": "stdout",
     "output_type": "stream",
     "text": [
      "Requirement already satisfied: ipython in c:\\users\\alan de castro\\appdata\\roaming\\python\\python311\\site-packages (8.14.0)Note: you may need to restart the kernel to use updated packages.\n",
      "\n",
      "Requirement already satisfied: backcall in c:\\users\\alan de castro\\appdata\\roaming\\python\\python311\\site-packages (from ipython) (0.2.0)\n",
      "Requirement already satisfied: decorator in c:\\users\\alan de castro\\appdata\\roaming\\python\\python311\\site-packages (from ipython) (5.1.1)\n",
      "Requirement already satisfied: jedi>=0.16 in c:\\users\\alan de castro\\appdata\\roaming\\python\\python311\\site-packages (from ipython) (0.19.0)\n",
      "Requirement already satisfied: matplotlib-inline in c:\\users\\alan de castro\\appdata\\roaming\\python\\python311\\site-packages (from ipython) (0.1.6)\n",
      "Requirement already satisfied: pickleshare in c:\\users\\alan de castro\\appdata\\roaming\\python\\python311\\site-packages (from ipython) (0.7.5)\n",
      "Requirement already satisfied: prompt-toolkit!=3.0.37,<3.1.0,>=3.0.30 in c:\\users\\alan de castro\\appdata\\roaming\\python\\python311\\site-packages (from ipython) (3.0.39)\n",
      "Requirement already satisfied: pygments>=2.4.0 in c:\\users\\alan de castro\\appdata\\roaming\\python\\python311\\site-packages (from ipython) (2.16.1)\n",
      "Requirement already satisfied: stack-data in c:\\users\\alan de castro\\appdata\\roaming\\python\\python311\\site-packages (from ipython) (0.6.2)\n",
      "Requirement already satisfied: traitlets>=5 in c:\\users\\alan de castro\\appdata\\roaming\\python\\python311\\site-packages (from ipython) (5.9.0)\n",
      "Requirement already satisfied: colorama in c:\\users\\alan de castro\\appdata\\roaming\\python\\python311\\site-packages (from ipython) (0.4.6)\n",
      "Requirement already satisfied: parso<0.9.0,>=0.8.3 in c:\\users\\alan de castro\\appdata\\roaming\\python\\python311\\site-packages (from jedi>=0.16->ipython) (0.8.3)\n",
      "Requirement already satisfied: wcwidth in c:\\users\\alan de castro\\appdata\\roaming\\python\\python311\\site-packages (from prompt-toolkit!=3.0.37,<3.1.0,>=3.0.30->ipython) (0.2.6)\n",
      "Requirement already satisfied: executing>=1.2.0 in c:\\users\\alan de castro\\appdata\\roaming\\python\\python311\\site-packages (from stack-data->ipython) (1.2.0)\n",
      "Requirement already satisfied: asttokens>=2.1.0 in c:\\users\\alan de castro\\appdata\\roaming\\python\\python311\\site-packages (from stack-data->ipython) (2.2.1)\n",
      "Requirement already satisfied: pure-eval in c:\\users\\alan de castro\\appdata\\roaming\\python\\python311\\site-packages (from stack-data->ipython) (0.2.2)\n",
      "Requirement already satisfied: six in c:\\users\\alan de castro\\appdata\\roaming\\python\\python311\\site-packages (from asttokens>=2.1.0->stack-data->ipython) (1.16.0)\n"
     ]
    },
    {
     "name": "stderr",
     "output_type": "stream",
     "text": [
      "\n",
      "[notice] A new release of pip is available: 23.1.2 -> 24.2\n",
      "[notice] To update, run: python.exe -m pip install --upgrade pip\n"
     ]
    },
    {
     "name": "stdout",
     "output_type": "stream",
     "text": [
      "Requirement already satisfied: ipywidgets in c:\\users\\alan de castro\\appdata\\local\\programs\\python\\python311\\lib\\site-packages (8.1.2)\n",
      "Requirement already satisfied: comm>=0.1.3 in c:\\users\\alan de castro\\appdata\\roaming\\python\\python311\\site-packages (from ipywidgets) (0.1.4)\n",
      "Requirement already satisfied: ipython>=6.1.0 in c:\\users\\alan de castro\\appdata\\roaming\\python\\python311\\site-packages (from ipywidgets) (8.14.0)\n",
      "Requirement already satisfied: traitlets>=4.3.1 in c:\\users\\alan de castro\\appdata\\roaming\\python\\python311\\site-packages (from ipywidgets) (5.9.0)\n",
      "Requirement already satisfied: widgetsnbextension~=4.0.10 in c:\\users\\alan de castro\\appdata\\local\\programs\\python\\python311\\lib\\site-packages (from ipywidgets) (4.0.10)\n",
      "Requirement already satisfied: jupyterlab-widgets~=3.0.10 in c:\\users\\alan de castro\\appdata\\local\\programs\\python\\python311\\lib\\site-packages (from ipywidgets) (3.0.10)\n",
      "Requirement already satisfied: backcall in c:\\users\\alan de castro\\appdata\\roaming\\python\\python311\\site-packages (from ipython>=6.1.0->ipywidgets) (0.2.0)\n",
      "Requirement already satisfied: decorator in c:\\users\\alan de castro\\appdata\\roaming\\python\\python311\\site-packages (from ipython>=6.1.0->ipywidgets) (5.1.1)\n",
      "Requirement already satisfied: jedi>=0.16 in c:\\users\\alan de castro\\appdata\\roaming\\python\\python311\\site-packages (from ipython>=6.1.0->ipywidgets) (0.19.0)\n",
      "Requirement already satisfied: matplotlib-inline in c:\\users\\alan de castro\\appdata\\roaming\\python\\python311\\site-packages (from ipython>=6.1.0->ipywidgets) (0.1.6)\n",
      "Requirement already satisfied: pickleshare in c:\\users\\alan de castro\\appdata\\roaming\\python\\python311\\site-packages (from ipython>=6.1.0->ipywidgets) (0.7.5)\n",
      "Requirement already satisfied: prompt-toolkit!=3.0.37,<3.1.0,>=3.0.30 in c:\\users\\alan de castro\\appdata\\roaming\\python\\python311\\site-packages (from ipython>=6.1.0->ipywidgets) (3.0.39)\n",
      "Requirement already satisfied: pygments>=2.4.0 in c:\\users\\alan de castro\\appdata\\roaming\\python\\python311\\site-packages (from ipython>=6.1.0->ipywidgets) (2.16.1)\n",
      "Requirement already satisfied: stack-data in c:\\users\\alan de castro\\appdata\\roaming\\python\\python311\\site-packages (from ipython>=6.1.0->ipywidgets) (0.6.2)\n",
      "Requirement already satisfied: colorama in c:\\users\\alan de castro\\appdata\\roaming\\python\\python311\\site-packages (from ipython>=6.1.0->ipywidgets) (0.4.6)\n",
      "Requirement already satisfied: parso<0.9.0,>=0.8.3 in c:\\users\\alan de castro\\appdata\\roaming\\python\\python311\\site-packages (from jedi>=0.16->ipython>=6.1.0->ipywidgets) (0.8.3)\n",
      "Requirement already satisfied: wcwidth in c:\\users\\alan de castro\\appdata\\roaming\\python\\python311\\site-packages (from prompt-toolkit!=3.0.37,<3.1.0,>=3.0.30->ipython>=6.1.0->ipywidgets) (0.2.6)\n",
      "Requirement already satisfied: executing>=1.2.0 in c:\\users\\alan de castro\\appdata\\roaming\\python\\python311\\site-packages (from stack-data->ipython>=6.1.0->ipywidgets) (1.2.0)\n",
      "Requirement already satisfied: asttokens>=2.1.0 in c:\\users\\alan de castro\\appdata\\roaming\\python\\python311\\site-packages (from stack-data->ipython>=6.1.0->ipywidgets) (2.2.1)\n",
      "Requirement already satisfied: pure-eval in c:\\users\\alan de castro\\appdata\\roaming\\python\\python311\\site-packages (from stack-data->ipython>=6.1.0->ipywidgets) (0.2.2)\n",
      "Requirement already satisfied: six in c:\\users\\alan de castro\\appdata\\roaming\\python\\python311\\site-packages (from asttokens>=2.1.0->stack-data->ipython>=6.1.0->ipywidgets) (1.16.0)\n",
      "Note: you may need to restart the kernel to use updated packages.\n"
     ]
    },
    {
     "name": "stderr",
     "output_type": "stream",
     "text": [
      "\n",
      "[notice] A new release of pip is available: 23.1.2 -> 24.2\n",
      "[notice] To update, run: python.exe -m pip install --upgrade pip\n"
     ]
    },
    {
     "name": "stdout",
     "output_type": "stream",
     "text": [
      "Requirement already satisfied: regex in c:\\users\\alan de castro\\appdata\\local\\programs\\python\\python311\\lib\\site-packages (2023.12.25)\n",
      "Note: you may need to restart the kernel to use updated packages.\n"
     ]
    },
    {
     "name": "stderr",
     "output_type": "stream",
     "text": [
      "\n",
      "[notice] A new release of pip is available: 23.1.2 -> 24.2\n",
      "[notice] To update, run: python.exe -m pip install --upgrade pip\n"
     ]
    },
    {
     "name": "stdout",
     "output_type": "stream",
     "text": [
      "Requirement already satisfied: bertopic in c:\\users\\alan de castro\\appdata\\local\\programs\\python\\python311\\lib\\site-packages (0.16.2)\n",
      "Requirement already satisfied: numpy>=1.20.0 in c:\\users\\alan de castro\\appdata\\local\\programs\\python\\python311\\lib\\site-packages (from bertopic) (1.24.3)\n",
      "Requirement already satisfied: hdbscan>=0.8.29 in c:\\users\\alan de castro\\appdata\\local\\programs\\python\\python311\\lib\\site-packages (from bertopic) (0.8.36)\n",
      "Requirement already satisfied: umap-learn>=0.5.0 in c:\\users\\alan de castro\\appdata\\local\\programs\\python\\python311\\lib\\site-packages (from bertopic) (0.5.6)\n",
      "Requirement already satisfied: pandas>=1.1.5 in c:\\users\\alan de castro\\appdata\\local\\programs\\python\\python311\\lib\\site-packages (from bertopic) (2.2.1)\n",
      "Requirement already satisfied: scikit-learn>=0.22.2.post1 in c:\\users\\alan de castro\\appdata\\local\\programs\\python\\python311\\lib\\site-packages (from bertopic) (1.4.1.post1)\n",
      "Requirement already satisfied: tqdm>=4.41.1 in c:\\users\\alan de castro\\appdata\\local\\programs\\python\\python311\\lib\\site-packages (from bertopic) (4.66.1)\n",
      "Requirement already satisfied: sentence-transformers>=0.4.1 in c:\\users\\alan de castro\\appdata\\local\\programs\\python\\python311\\lib\\site-packages (from bertopic) (3.0.0)\n",
      "Requirement already satisfied: plotly>=4.7.0 in c:\\users\\alan de castro\\appdata\\local\\programs\\python\\python311\\lib\\site-packages (from bertopic) (5.20.0)\n",
      "Requirement already satisfied: cython<3,>=0.27 in c:\\users\\alan de castro\\appdata\\local\\programs\\python\\python311\\lib\\site-packages (from hdbscan>=0.8.29->bertopic) (0.29.37)\n",
      "Requirement already satisfied: scipy>=1.0 in c:\\users\\alan de castro\\appdata\\local\\programs\\python\\python311\\lib\\site-packages (from hdbscan>=0.8.29->bertopic) (1.12.0)\n",
      "Requirement already satisfied: joblib>=1.0 in c:\\users\\alan de castro\\appdata\\local\\programs\\python\\python311\\lib\\site-packages (from hdbscan>=0.8.29->bertopic) (1.3.2)\n",
      "Requirement already satisfied: python-dateutil>=2.8.2 in c:\\users\\alan de castro\\appdata\\roaming\\python\\python311\\site-packages (from pandas>=1.1.5->bertopic) (2.8.2)\n",
      "Requirement already satisfied: pytz>=2020.1 in c:\\users\\alan de castro\\appdata\\local\\programs\\python\\python311\\lib\\site-packages (from pandas>=1.1.5->bertopic) (2024.1)\n",
      "Requirement already satisfied: tzdata>=2022.7 in c:\\users\\alan de castro\\appdata\\local\\programs\\python\\python311\\lib\\site-packages (from pandas>=1.1.5->bertopic) (2024.1)\n",
      "Requirement already satisfied: tenacity>=6.2.0 in c:\\users\\alan de castro\\appdata\\local\\programs\\python\\python311\\lib\\site-packages (from plotly>=4.7.0->bertopic) (8.2.3)\n",
      "Requirement already satisfied: packaging in c:\\users\\alan de castro\\appdata\\local\\programs\\python\\python311\\lib\\site-packages (from plotly>=4.7.0->bertopic) (23.2)\n",
      "Requirement already satisfied: threadpoolctl>=2.0.0 in c:\\users\\alan de castro\\appdata\\local\\programs\\python\\python311\\lib\\site-packages (from scikit-learn>=0.22.2.post1->bertopic) (3.3.0)\n",
      "Requirement already satisfied: transformers<5.0.0,>=4.34.0 in c:\\users\\alan de castro\\appdata\\local\\programs\\python\\python311\\lib\\site-packages (from sentence-transformers>=0.4.1->bertopic) (4.41.2)\n",
      "Requirement already satisfied: torch>=1.11.0 in c:\\users\\alan de castro\\appdata\\local\\programs\\python\\python311\\lib\\site-packages (from sentence-transformers>=0.4.1->bertopic) (2.3.0)\n",
      "Requirement already satisfied: huggingface-hub>=0.15.1 in c:\\users\\alan de castro\\appdata\\local\\programs\\python\\python311\\lib\\site-packages (from sentence-transformers>=0.4.1->bertopic) (0.23.2)\n",
      "Requirement already satisfied: Pillow in c:\\users\\alan de castro\\appdata\\local\\programs\\python\\python311\\lib\\site-packages (from sentence-transformers>=0.4.1->bertopic) (10.2.0)\n",
      "Requirement already satisfied: colorama in c:\\users\\alan de castro\\appdata\\roaming\\python\\python311\\site-packages (from tqdm>=4.41.1->bertopic) (0.4.6)\n",
      "Requirement already satisfied: numba>=0.51.2 in c:\\users\\alan de castro\\appdata\\local\\programs\\python\\python311\\lib\\site-packages (from umap-learn>=0.5.0->bertopic) (0.59.1)\n",
      "Requirement already satisfied: pynndescent>=0.5 in c:\\users\\alan de castro\\appdata\\local\\programs\\python\\python311\\lib\\site-packages (from umap-learn>=0.5.0->bertopic) (0.5.12)\n",
      "Requirement already satisfied: filelock in c:\\users\\alan de castro\\appdata\\local\\programs\\python\\python311\\lib\\site-packages (from huggingface-hub>=0.15.1->sentence-transformers>=0.4.1->bertopic) (3.14.0)\n",
      "Requirement already satisfied: fsspec>=2023.5.0 in c:\\users\\alan de castro\\appdata\\local\\programs\\python\\python311\\lib\\site-packages (from huggingface-hub>=0.15.1->sentence-transformers>=0.4.1->bertopic) (2024.6.0)\n",
      "Requirement already satisfied: pyyaml>=5.1 in c:\\users\\alan de castro\\appdata\\local\\programs\\python\\python311\\lib\\site-packages (from huggingface-hub>=0.15.1->sentence-transformers>=0.4.1->bertopic) (6.0.1)\n",
      "Requirement already satisfied: requests in c:\\users\\alan de castro\\appdata\\local\\programs\\python\\python311\\lib\\site-packages (from huggingface-hub>=0.15.1->sentence-transformers>=0.4.1->bertopic) (2.31.0)\n",
      "Requirement already satisfied: typing-extensions>=3.7.4.3 in c:\\users\\alan de castro\\appdata\\local\\programs\\python\\python311\\lib\\site-packages (from huggingface-hub>=0.15.1->sentence-transformers>=0.4.1->bertopic) (4.12.2)\n",
      "Requirement already satisfied: llvmlite<0.43,>=0.42.0dev0 in c:\\users\\alan de castro\\appdata\\local\\programs\\python\\python311\\lib\\site-packages (from numba>=0.51.2->umap-learn>=0.5.0->bertopic) (0.42.0)\n",
      "Requirement already satisfied: six>=1.5 in c:\\users\\alan de castro\\appdata\\roaming\\python\\python311\\site-packages (from python-dateutil>=2.8.2->pandas>=1.1.5->bertopic) (1.16.0)\n",
      "Requirement already satisfied: sympy in c:\\users\\alan de castro\\appdata\\local\\programs\\python\\python311\\lib\\site-packages (from torch>=1.11.0->sentence-transformers>=0.4.1->bertopic) (1.12.1)\n",
      "Requirement already satisfied: networkx in c:\\users\\alan de castro\\appdata\\local\\programs\\python\\python311\\lib\\site-packages (from torch>=1.11.0->sentence-transformers>=0.4.1->bertopic) (3.3)\n",
      "Requirement already satisfied: jinja2 in c:\\users\\alan de castro\\appdata\\local\\programs\\python\\python311\\lib\\site-packages (from torch>=1.11.0->sentence-transformers>=0.4.1->bertopic) (3.1.3)\n",
      "Requirement already satisfied: mkl<=2021.4.0,>=2021.1.1 in c:\\users\\alan de castro\\appdata\\local\\programs\\python\\python311\\lib\\site-packages (from torch>=1.11.0->sentence-transformers>=0.4.1->bertopic) (2021.4.0)\n",
      "Requirement already satisfied: regex!=2019.12.17 in c:\\users\\alan de castro\\appdata\\local\\programs\\python\\python311\\lib\\site-packages (from transformers<5.0.0,>=4.34.0->sentence-transformers>=0.4.1->bertopic) (2023.12.25)\n",
      "Requirement already satisfied: tokenizers<0.20,>=0.19 in c:\\users\\alan de castro\\appdata\\local\\programs\\python\\python311\\lib\\site-packages (from transformers<5.0.0,>=4.34.0->sentence-transformers>=0.4.1->bertopic) (0.19.1)\n",
      "Requirement already satisfied: safetensors>=0.4.1 in c:\\users\\alan de castro\\appdata\\local\\programs\\python\\python311\\lib\\site-packages (from transformers<5.0.0,>=4.34.0->sentence-transformers>=0.4.1->bertopic) (0.4.3)\n",
      "Requirement already satisfied: intel-openmp==2021.* in c:\\users\\alan de castro\\appdata\\local\\programs\\python\\python311\\lib\\site-packages (from mkl<=2021.4.0,>=2021.1.1->torch>=1.11.0->sentence-transformers>=0.4.1->bertopic) (2021.4.0)\n",
      "Requirement already satisfied: tbb==2021.* in c:\\users\\alan de castro\\appdata\\local\\programs\\python\\python311\\lib\\site-packages (from mkl<=2021.4.0,>=2021.1.1->torch>=1.11.0->sentence-transformers>=0.4.1->bertopic) (2021.12.0)\n",
      "Requirement already satisfied: MarkupSafe>=2.0 in c:\\users\\alan de castro\\appdata\\local\\programs\\python\\python311\\lib\\site-packages (from jinja2->torch>=1.11.0->sentence-transformers>=0.4.1->bertopic) (2.1.3)\n",
      "Requirement already satisfied: charset-normalizer<4,>=2 in c:\\users\\alan de castro\\appdata\\local\\programs\\python\\python311\\lib\\site-packages (from requests->huggingface-hub>=0.15.1->sentence-transformers>=0.4.1->bertopic) (3.2.0)\n",
      "Requirement already satisfied: idna<4,>=2.5 in c:\\users\\alan de castro\\appdata\\local\\programs\\python\\python311\\lib\\site-packages (from requests->huggingface-hub>=0.15.1->sentence-transformers>=0.4.1->bertopic) (3.4)\n",
      "Requirement already satisfied: urllib3<3,>=1.21.1 in c:\\users\\alan de castro\\appdata\\local\\programs\\python\\python311\\lib\\site-packages (from requests->huggingface-hub>=0.15.1->sentence-transformers>=0.4.1->bertopic) (1.26.16)\n",
      "Requirement already satisfied: certifi>=2017.4.17 in c:\\users\\alan de castro\\appdata\\local\\programs\\python\\python311\\lib\\site-packages (from requests->huggingface-hub>=0.15.1->sentence-transformers>=0.4.1->bertopic) (2023.7.22)\n",
      "Requirement already satisfied: mpmath<1.4.0,>=1.1.0 in c:\\users\\alan de castro\\appdata\\local\\programs\\python\\python311\\lib\\site-packages (from sympy->torch>=1.11.0->sentence-transformers>=0.4.1->bertopic) (1.3.0)\n",
      "Note: you may need to restart the kernel to use updated packages.\n"
     ]
    },
    {
     "name": "stderr",
     "output_type": "stream",
     "text": [
      "\n",
      "[notice] A new release of pip is available: 23.1.2 -> 24.2\n",
      "[notice] To update, run: python.exe -m pip install --upgrade pip\n"
     ]
    },
    {
     "name": "stdout",
     "output_type": "stream",
     "text": [
      "Note: you may need to restart the kernel to use updated packages.Requirement already satisfied: langchain in c:\\users\\alan de castro\\appdata\\local\\programs\\python\\python311\\lib\\site-packages (0.2.2)\n",
      "Requirement already satisfied: langchain_openai in c:\\users\\alan de castro\\appdata\\local\\programs\\python\\python311\\lib\\site-packages (0.1.8)\n",
      "Requirement already satisfied: PyYAML>=5.3 in c:\\users\\alan de castro\\appdata\\local\\programs\\python\\python311\\lib\\site-packages (from langchain) (6.0.1)\n",
      "Requirement already satisfied: SQLAlchemy<3,>=1.4 in c:\\users\\alan de castro\\appdata\\local\\programs\\python\\python311\\lib\\site-packages (from langchain) (2.0.30)\n",
      "Requirement already satisfied: aiohttp<4.0.0,>=3.8.3 in c:\\users\\alan de castro\\appdata\\local\\programs\\python\\python311\\lib\\site-packages (from langchain) (3.9.5)\n",
      "Requirement already satisfied: langchain-core<0.3.0,>=0.2.0 in c:\\users\\alan de castro\\appdata\\local\\programs\\python\\python311\\lib\\site-packages (from langchain) (0.2.4)\n",
      "Requirement already satisfied: langchain-text-splitters<0.3.0,>=0.2.0 in c:\\users\\alan de castro\\appdata\\local\\programs\\python\\python311\\lib\\site-packages (from langchain) (0.2.1)\n",
      "Requirement already satisfied: langsmith<0.2.0,>=0.1.17 in c:\\users\\alan de castro\\appdata\\local\\programs\\python\\python311\\lib\\site-packages (from langchain) (0.1.71)\n",
      "Requirement already satisfied: numpy<2,>=1 in c:\\users\\alan de castro\\appdata\\local\\programs\\python\\python311\\lib\\site-packages (from langchain) (1.24.3)\n",
      "Requirement already satisfied: pydantic<3,>=1 in c:\\users\\alan de castro\\appdata\\local\\programs\\python\\python311\\lib\\site-packages (from langchain) (2.6.4)\n",
      "Requirement already satisfied: requests<3,>=2 in c:\\users\\alan de castro\\appdata\\local\\programs\\python\\python311\\lib\\site-packages (from langchain) (2.31.0)\n",
      "Requirement already satisfied: tenacity<9.0.0,>=8.1.0 in c:\\users\\alan de castro\\appdata\\local\\programs\\python\\python311\\lib\\site-packages (from langchain) (8.2.3)\n",
      "Requirement already satisfied: openai<2.0.0,>=1.26.0 in c:\\users\\alan de castro\\appdata\\local\\programs\\python\\python311\\lib\\site-packages (from langchain_openai) (1.31.0)\n",
      "Requirement already satisfied: tiktoken<1,>=0.7 in c:\\users\\alan de castro\\appdata\\local\\programs\\python\\python311\\lib\\site-packages (from langchain_openai) (0.7.0)\n",
      "Requirement already satisfied: aiosignal>=1.1.2 in c:\\users\\alan de castro\\appdata\\local\\programs\\python\\python311\\lib\\site-packages (from aiohttp<4.0.0,>=3.8.3->langchain) (1.3.1)\n",
      "Requirement already satisfied: attrs>=17.3.0 in c:\\users\\alan de castro\\appdata\\local\\programs\\python\\python311\\lib\\site-packages (from aiohttp<4.0.0,>=3.8.3->langchain) (23.2.0)\n",
      "Requirement already satisfied: frozenlist>=1.1.1 in c:\\users\\alan de castro\\appdata\\local\\programs\\python\\python311\\lib\\site-packages (from aiohttp<4.0.0,>=3.8.3->langchain) (1.4.1)\n",
      "Requirement already satisfied: multidict<7.0,>=4.5 in c:\\users\\alan de castro\\appdata\\local\\programs\\python\\python311\\lib\\site-packages (from aiohttp<4.0.0,>=3.8.3->langchain) (6.0.5)\n",
      "Requirement already satisfied: yarl<2.0,>=1.0 in c:\\users\\alan de castro\\appdata\\local\\programs\\python\\python311\\lib\\site-packages (from aiohttp<4.0.0,>=3.8.3->langchain) (1.9.4)\n",
      "Requirement already satisfied: jsonpatch<2.0,>=1.33 in c:\\users\\alan de castro\\appdata\\local\\programs\\python\\python311\\lib\\site-packages (from langchain-core<0.3.0,>=0.2.0->langchain) (1.33)\n",
      "Requirement already satisfied: packaging<24.0,>=23.2 in c:\\users\\alan de castro\\appdata\\local\\programs\\python\\python311\\lib\\site-packages (from langchain-core<0.3.0,>=0.2.0->langchain) (23.2)\n",
      "Requirement already satisfied: orjson<4.0.0,>=3.9.14 in c:\\users\\alan de castro\\appdata\\local\\programs\\python\\python311\\lib\\site-packages (from langsmith<0.2.0,>=0.1.17->langchain) (3.10.3)\n",
      "Requirement already satisfied: anyio<5,>=3.5.0 in c:\\users\\alan de castro\\appdata\\local\\programs\\python\\python311\\lib\\site-packages (from openai<2.0.0,>=1.26.0->langchain_openai) (4.4.0)\n",
      "Requirement already satisfied: distro<2,>=1.7.0 in c:\\users\\alan de castro\\appdata\\local\\programs\\python\\python311\\lib\\site-packages (from openai<2.0.0,>=1.26.0->langchain_openai) (1.9.0)\n",
      "Requirement already satisfied: httpx<1,>=0.23.0 in c:\\users\\alan de castro\\appdata\\local\\programs\\python\\python311\\lib\\site-packages (from openai<2.0.0,>=1.26.0->langchain_openai) (0.27.0)\n",
      "Requirement already satisfied: sniffio in c:\\users\\alan de castro\\appdata\\local\\programs\\python\\python311\\lib\\site-packages (from openai<2.0.0,>=1.26.0->langchain_openai) (1.3.1)\n",
      "Requirement already satisfied: tqdm>4 in c:\\users\\alan de castro\\appdata\\local\\programs\\python\\python311\\lib\\site-packages (from openai<2.0.0,>=1.26.0->langchain_openai) (4.66.1)\n",
      "Requirement already satisfied: typing-extensions<5,>=4.7 in c:\\users\\alan de castro\\appdata\\local\\programs\\python\\python311\\lib\\site-packages (from openai<2.0.0,>=1.26.0->langchain_openai) (4.12.2)\n",
      "Requirement already satisfied: annotated-types>=0.4.0 in c:\\users\\alan de castro\\appdata\\local\\programs\\python\\python311\\lib\\site-packages (from pydantic<3,>=1->langchain) (0.6.0)\n",
      "Requirement already satisfied: pydantic-core==2.16.3 in c:\\users\\alan de castro\\appdata\\local\\programs\\python\\python311\\lib\\site-packages (from pydantic<3,>=1->langchain) (2.16.3)\n",
      "Requirement already satisfied: charset-normalizer<4,>=2 in c:\\users\\alan de castro\\appdata\\local\\programs\\python\\python311\\lib\\site-packages (from requests<3,>=2->langchain) (3.2.0)\n",
      "Requirement already satisfied: idna<4,>=2.5 in c:\\users\\alan de castro\\appdata\\local\\programs\\python\\python311\\lib\\site-packages (from requests<3,>=2->langchain) (3.4)\n",
      "Requirement already satisfied: urllib3<3,>=1.21.1 in c:\\users\\alan de castro\\appdata\\local\\programs\\python\\python311\\lib\\site-packages (from requests<3,>=2->langchain) (1.26.16)\n",
      "Requirement already satisfied: certifi>=2017.4.17 in c:\\users\\alan de castro\\appdata\\local\\programs\\python\\python311\\lib\\site-packages (from requests<3,>=2->langchain) (2023.7.22)\n",
      "Requirement already satisfied: greenlet!=0.4.17 in c:\\users\\alan de castro\\appdata\\local\\programs\\python\\python311\\lib\\site-packages (from SQLAlchemy<3,>=1.4->langchain) (3.0.3)\n",
      "Requirement already satisfied: regex>=2022.1.18 in c:\\users\\alan de castro\\appdata\\local\\programs\\python\\python311\\lib\\site-packages (from tiktoken<1,>=0.7->langchain_openai) (2023.12.25)\n",
      "Requirement already satisfied: httpcore==1.* in c:\\users\\alan de castro\\appdata\\local\\programs\\python\\python311\\lib\\site-packages (from httpx<1,>=0.23.0->openai<2.0.0,>=1.26.0->langchain_openai) (1.0.5)\n",
      "Requirement already satisfied: h11<0.15,>=0.13 in c:\\users\\alan de castro\\appdata\\local\\programs\\python\\python311\\lib\\site-packages (from httpcore==1.*->httpx<1,>=0.23.0->openai<2.0.0,>=1.26.0->langchain_openai) (0.14.0)\n",
      "Requirement already satisfied: jsonpointer>=1.9 in c:\\users\\alan de castro\\appdata\\local\\programs\\python\\python311\\lib\\site-packages (from jsonpatch<2.0,>=1.33->langchain-core<0.3.0,>=0.2.0->langchain) (2.4)\n",
      "Requirement already satisfied: colorama in c:\\users\\alan de castro\\appdata\\roaming\\python\\python311\\site-packages (from tqdm>4->openai<2.0.0,>=1.26.0->langchain_openai) (0.4.6)\n",
      "\n"
     ]
    },
    {
     "name": "stderr",
     "output_type": "stream",
     "text": [
      "\n",
      "[notice] A new release of pip is available: 23.1.2 -> 24.2\n",
      "[notice] To update, run: python.exe -m pip install --upgrade pip\n"
     ]
    }
   ],
   "source": [
    "%pip install --upgrade nbformat\n",
    "%pip install plotly\n",
    "%pip install spacy\n",
    "%pip install nltk\n",
    "%pip install matplotlib\n",
    "%pip install ipython\n",
    "%pip install ipywidgets\n",
    "%pip install regex\n",
    "%pip install bertopic\n",
    "%pip install langchain langchain_openai"
   ]
  },
  {
   "cell_type": "code",
   "execution_count": 50,
   "metadata": {},
   "outputs": [
    {
     "name": "stdout",
     "output_type": "stream",
     "text": [
      "Collecting en-core-web-sm==3.7.1\n",
      "  Downloading https://github.com/explosion/spacy-models/releases/download/en_core_web_sm-3.7.1/en_core_web_sm-3.7.1-py3-none-any.whl (12.8 MB)\n",
      "                                              0.0/12.8 MB ? eta -:--:--\n",
      "     -                                        0.4/12.8 MB 8.3 MB/s eta 0:00:02\n",
      "     ---                                      1.2/12.8 MB 12.9 MB/s eta 0:00:01\n",
      "     ------                                   2.0/12.8 MB 15.6 MB/s eta 0:00:01\n",
      "     --------                                 2.8/12.8 MB 16.4 MB/s eta 0:00:01\n",
      "     --------------                           4.7/12.8 MB 20.0 MB/s eta 0:00:01\n",
      "     -------------------                      6.2/12.8 MB 21.9 MB/s eta 0:00:01\n",
      "     ----------------------                   7.2/12.8 MB 21.8 MB/s eta 0:00:01\n",
      "     -------------------------                8.3/12.8 MB 22.1 MB/s eta 0:00:01\n",
      "     -----------------------------            9.3/12.8 MB 22.1 MB/s eta 0:00:01\n",
      "     ------------------------------          10.1/12.8 MB 22.3 MB/s eta 0:00:01\n",
      "     ---------------------------------       10.9/12.8 MB 22.6 MB/s eta 0:00:01\n",
      "     ----------------------------------      11.5/12.8 MB 21.8 MB/s eta 0:00:01\n",
      "     ------------------------------------    12.1/12.8 MB 20.5 MB/s eta 0:00:01\n",
      "     --------------------------------------  12.5/12.8 MB 20.5 MB/s eta 0:00:01\n",
      "     --------------------------------------  12.8/12.8 MB 19.2 MB/s eta 0:00:01\n",
      "     --------------------------------------  12.8/12.8 MB 19.2 MB/s eta 0:00:01\n",
      "     --------------------------------------  12.8/12.8 MB 19.2 MB/s eta 0:00:01\n",
      "     --------------------------------------  12.8/12.8 MB 19.2 MB/s eta 0:00:01\n",
      "     --------------------------------------  12.8/12.8 MB 19.2 MB/s eta 0:00:01\n",
      "     --------------------------------------  12.8/12.8 MB 19.2 MB/s eta 0:00:01\n",
      "     --------------------------------------  12.8/12.8 MB 19.2 MB/s eta 0:00:01\n",
      "     --------------------------------------- 12.8/12.8 MB 12.1 MB/s eta 0:00:00\n",
      "Requirement already satisfied: spacy<3.8.0,>=3.7.2 in c:\\users\\alan de castro\\appdata\\local\\programs\\python\\python311\\lib\\site-packages (from en-core-web-sm==3.7.1) (3.7.4)\n",
      "Requirement already satisfied: spacy-legacy<3.1.0,>=3.0.11 in c:\\users\\alan de castro\\appdata\\local\\programs\\python\\python311\\lib\\site-packages (from spacy<3.8.0,>=3.7.2->en-core-web-sm==3.7.1) (3.0.12)\n",
      "Requirement already satisfied: spacy-loggers<2.0.0,>=1.0.0 in c:\\users\\alan de castro\\appdata\\local\\programs\\python\\python311\\lib\\site-packages (from spacy<3.8.0,>=3.7.2->en-core-web-sm==3.7.1) (1.0.5)\n",
      "Requirement already satisfied: murmurhash<1.1.0,>=0.28.0 in c:\\users\\alan de castro\\appdata\\local\\programs\\python\\python311\\lib\\site-packages (from spacy<3.8.0,>=3.7.2->en-core-web-sm==3.7.1) (1.0.10)\n",
      "Requirement already satisfied: cymem<2.1.0,>=2.0.2 in c:\\users\\alan de castro\\appdata\\local\\programs\\python\\python311\\lib\\site-packages (from spacy<3.8.0,>=3.7.2->en-core-web-sm==3.7.1) (2.0.8)\n",
      "Requirement already satisfied: preshed<3.1.0,>=3.0.2 in c:\\users\\alan de castro\\appdata\\local\\programs\\python\\python311\\lib\\site-packages (from spacy<3.8.0,>=3.7.2->en-core-web-sm==3.7.1) (3.0.9)\n",
      "Requirement already satisfied: thinc<8.3.0,>=8.2.2 in c:\\users\\alan de castro\\appdata\\local\\programs\\python\\python311\\lib\\site-packages (from spacy<3.8.0,>=3.7.2->en-core-web-sm==3.7.1) (8.2.3)\n",
      "Requirement already satisfied: wasabi<1.2.0,>=0.9.1 in c:\\users\\alan de castro\\appdata\\local\\programs\\python\\python311\\lib\\site-packages (from spacy<3.8.0,>=3.7.2->en-core-web-sm==3.7.1) (1.1.2)\n",
      "Requirement already satisfied: srsly<3.0.0,>=2.4.3 in c:\\users\\alan de castro\\appdata\\local\\programs\\python\\python311\\lib\\site-packages (from spacy<3.8.0,>=3.7.2->en-core-web-sm==3.7.1) (2.4.8)\n",
      "Requirement already satisfied: catalogue<2.1.0,>=2.0.6 in c:\\users\\alan de castro\\appdata\\local\\programs\\python\\python311\\lib\\site-packages (from spacy<3.8.0,>=3.7.2->en-core-web-sm==3.7.1) (2.0.10)\n",
      "Requirement already satisfied: weasel<0.4.0,>=0.1.0 in c:\\users\\alan de castro\\appdata\\local\\programs\\python\\python311\\lib\\site-packages (from spacy<3.8.0,>=3.7.2->en-core-web-sm==3.7.1) (0.3.4)\n",
      "Requirement already satisfied: typer<0.10.0,>=0.3.0 in c:\\users\\alan de castro\\appdata\\local\\programs\\python\\python311\\lib\\site-packages (from spacy<3.8.0,>=3.7.2->en-core-web-sm==3.7.1) (0.9.4)\n",
      "Requirement already satisfied: smart-open<7.0.0,>=5.2.1 in c:\\users\\alan de castro\\appdata\\local\\programs\\python\\python311\\lib\\site-packages (from spacy<3.8.0,>=3.7.2->en-core-web-sm==3.7.1) (6.4.0)\n",
      "Requirement already satisfied: tqdm<5.0.0,>=4.38.0 in c:\\users\\alan de castro\\appdata\\local\\programs\\python\\python311\\lib\\site-packages (from spacy<3.8.0,>=3.7.2->en-core-web-sm==3.7.1) (4.66.1)\n",
      "Requirement already satisfied: requests<3.0.0,>=2.13.0 in c:\\users\\alan de castro\\appdata\\local\\programs\\python\\python311\\lib\\site-packages (from spacy<3.8.0,>=3.7.2->en-core-web-sm==3.7.1) (2.31.0)\n",
      "Requirement already satisfied: pydantic!=1.8,!=1.8.1,<3.0.0,>=1.7.4 in c:\\users\\alan de castro\\appdata\\local\\programs\\python\\python311\\lib\\site-packages (from spacy<3.8.0,>=3.7.2->en-core-web-sm==3.7.1) (2.6.4)\n",
      "Requirement already satisfied: jinja2 in c:\\users\\alan de castro\\appdata\\local\\programs\\python\\python311\\lib\\site-packages (from spacy<3.8.0,>=3.7.2->en-core-web-sm==3.7.1) (3.1.3)\n",
      "Requirement already satisfied: setuptools in c:\\users\\alan de castro\\appdata\\local\\programs\\python\\python311\\lib\\site-packages (from spacy<3.8.0,>=3.7.2->en-core-web-sm==3.7.1) (65.5.0)\n",
      "Requirement already satisfied: packaging>=20.0 in c:\\users\\alan de castro\\appdata\\local\\programs\\python\\python311\\lib\\site-packages (from spacy<3.8.0,>=3.7.2->en-core-web-sm==3.7.1) (23.2)\n",
      "Requirement already satisfied: langcodes<4.0.0,>=3.2.0 in c:\\users\\alan de castro\\appdata\\local\\programs\\python\\python311\\lib\\site-packages (from spacy<3.8.0,>=3.7.2->en-core-web-sm==3.7.1) (3.3.0)\n",
      "Requirement already satisfied: numpy>=1.19.0 in c:\\users\\alan de castro\\appdata\\local\\programs\\python\\python311\\lib\\site-packages (from spacy<3.8.0,>=3.7.2->en-core-web-sm==3.7.1) (1.24.3)\n",
      "Requirement already satisfied: annotated-types>=0.4.0 in c:\\users\\alan de castro\\appdata\\local\\programs\\python\\python311\\lib\\site-packages (from pydantic!=1.8,!=1.8.1,<3.0.0,>=1.7.4->spacy<3.8.0,>=3.7.2->en-core-web-sm==3.7.1) (0.6.0)\n",
      "Requirement already satisfied: pydantic-core==2.16.3 in c:\\users\\alan de castro\\appdata\\local\\programs\\python\\python311\\lib\\site-packages (from pydantic!=1.8,!=1.8.1,<3.0.0,>=1.7.4->spacy<3.8.0,>=3.7.2->en-core-web-sm==3.7.1) (2.16.3)\n",
      "Requirement already satisfied: typing-extensions>=4.6.1 in c:\\users\\alan de castro\\appdata\\local\\programs\\python\\python311\\lib\\site-packages (from pydantic!=1.8,!=1.8.1,<3.0.0,>=1.7.4->spacy<3.8.0,>=3.7.2->en-core-web-sm==3.7.1) (4.12.2)\n",
      "Requirement already satisfied: charset-normalizer<4,>=2 in c:\\users\\alan de castro\\appdata\\local\\programs\\python\\python311\\lib\\site-packages (from requests<3.0.0,>=2.13.0->spacy<3.8.0,>=3.7.2->en-core-web-sm==3.7.1) (3.2.0)\n",
      "Requirement already satisfied: idna<4,>=2.5 in c:\\users\\alan de castro\\appdata\\local\\programs\\python\\python311\\lib\\site-packages (from requests<3.0.0,>=2.13.0->spacy<3.8.0,>=3.7.2->en-core-web-sm==3.7.1) (3.4)\n",
      "Requirement already satisfied: urllib3<3,>=1.21.1 in c:\\users\\alan de castro\\appdata\\local\\programs\\python\\python311\\lib\\site-packages (from requests<3.0.0,>=2.13.0->spacy<3.8.0,>=3.7.2->en-core-web-sm==3.7.1) (1.26.16)\n",
      "Requirement already satisfied: certifi>=2017.4.17 in c:\\users\\alan de castro\\appdata\\local\\programs\\python\\python311\\lib\\site-packages (from requests<3.0.0,>=2.13.0->spacy<3.8.0,>=3.7.2->en-core-web-sm==3.7.1) (2023.7.22)\n",
      "Requirement already satisfied: blis<0.8.0,>=0.7.8 in c:\\users\\alan de castro\\appdata\\local\\programs\\python\\python311\\lib\\site-packages (from thinc<8.3.0,>=8.2.2->spacy<3.8.0,>=3.7.2->en-core-web-sm==3.7.1) (0.7.11)\n",
      "Requirement already satisfied: confection<1.0.0,>=0.0.1 in c:\\users\\alan de castro\\appdata\\local\\programs\\python\\python311\\lib\\site-packages (from thinc<8.3.0,>=8.2.2->spacy<3.8.0,>=3.7.2->en-core-web-sm==3.7.1) (0.1.4)\n",
      "Requirement already satisfied: colorama in c:\\users\\alan de castro\\appdata\\roaming\\python\\python311\\site-packages (from tqdm<5.0.0,>=4.38.0->spacy<3.8.0,>=3.7.2->en-core-web-sm==3.7.1) (0.4.6)\n",
      "Requirement already satisfied: click<9.0.0,>=7.1.1 in c:\\users\\alan de castro\\appdata\\local\\programs\\python\\python311\\lib\\site-packages (from typer<0.10.0,>=0.3.0->spacy<3.8.0,>=3.7.2->en-core-web-sm==3.7.1) (8.1.7)\n",
      "Requirement already satisfied: cloudpathlib<0.17.0,>=0.7.0 in c:\\users\\alan de castro\\appdata\\local\\programs\\python\\python311\\lib\\site-packages (from weasel<0.4.0,>=0.1.0->spacy<3.8.0,>=3.7.2->en-core-web-sm==3.7.1) (0.16.0)\n",
      "Requirement already satisfied: MarkupSafe>=2.0 in c:\\users\\alan de castro\\appdata\\local\\programs\\python\\python311\\lib\\site-packages (from jinja2->spacy<3.8.0,>=3.7.2->en-core-web-sm==3.7.1) (2.1.3)\n",
      "\u001b[38;5;2m✔ Download and installation successful\u001b[0m\n",
      "You can now load the package via spacy.load('en_core_web_sm')\n"
     ]
    },
    {
     "name": "stderr",
     "output_type": "stream",
     "text": [
      "\n",
      "[notice] A new release of pip is available: 23.1.2 -> 24.2\n",
      "[notice] To update, run: python.exe -m pip install --upgrade pip\n"
     ]
    }
   ],
   "source": [
    "!spacy download en_core_web_sm"
   ]
  },
  {
   "cell_type": "code",
   "execution_count": 51,
   "metadata": {},
   "outputs": [
    {
     "data": {
      "text/html": [
       "<div>\n",
       "<style scoped>\n",
       "    .dataframe tbody tr th:only-of-type {\n",
       "        vertical-align: middle;\n",
       "    }\n",
       "\n",
       "    .dataframe tbody tr th {\n",
       "        vertical-align: top;\n",
       "    }\n",
       "\n",
       "    .dataframe thead th {\n",
       "        text-align: right;\n",
       "    }\n",
       "</style>\n",
       "<table border=\"1\" class=\"dataframe\">\n",
       "  <thead>\n",
       "    <tr style=\"text-align: right;\">\n",
       "      <th></th>\n",
       "      <th>text</th>\n",
       "      <th>labels</th>\n",
       "    </tr>\n",
       "  </thead>\n",
       "  <tbody>\n",
       "    <tr>\n",
       "      <th>0</th>\n",
       "      <td>Ad sales boost Time Warner profit\\n\\nQuarterly...</td>\n",
       "      <td>business</td>\n",
       "    </tr>\n",
       "    <tr>\n",
       "      <th>1</th>\n",
       "      <td>Dollar gains on Greenspan speech\\n\\nThe dollar...</td>\n",
       "      <td>business</td>\n",
       "    </tr>\n",
       "    <tr>\n",
       "      <th>2</th>\n",
       "      <td>Yukos unit buyer faces loan claim\\n\\nThe owner...</td>\n",
       "      <td>business</td>\n",
       "    </tr>\n",
       "    <tr>\n",
       "      <th>3</th>\n",
       "      <td>High fuel prices hit BA's profits\\n\\nBritish A...</td>\n",
       "      <td>business</td>\n",
       "    </tr>\n",
       "    <tr>\n",
       "      <th>4</th>\n",
       "      <td>Pernod takeover talk lifts Domecq\\n\\nShares in...</td>\n",
       "      <td>business</td>\n",
       "    </tr>\n",
       "  </tbody>\n",
       "</table>\n",
       "</div>"
      ],
      "text/plain": [
       "                                                text    labels\n",
       "0  Ad sales boost Time Warner profit\\n\\nQuarterly...  business\n",
       "1  Dollar gains on Greenspan speech\\n\\nThe dollar...  business\n",
       "2  Yukos unit buyer faces loan claim\\n\\nThe owner...  business\n",
       "3  High fuel prices hit BA's profits\\n\\nBritish A...  business\n",
       "4  Pernod takeover talk lifts Domecq\\n\\nShares in...  business"
      ]
     },
     "execution_count": 51,
     "metadata": {},
     "output_type": "execute_result"
    }
   ],
   "source": [
    "import pandas as pd\n",
    "\n",
    "df = pd.read_csv('bbc_text_cls.csv')\n",
    "\n",
    "df.head()"
   ]
  },
  {
   "cell_type": "code",
   "execution_count": 52,
   "metadata": {},
   "outputs": [
    {
     "name": "stdout",
     "output_type": "stream",
     "text": [
      "(2225,) (2225,)\n"
     ]
    }
   ],
   "source": [
    "df_labels = df['labels']\n",
    "df_text = df['text']\n",
    "\n",
    "print(df_labels.shape, df_labels.shape)"
   ]
  },
  {
   "cell_type": "code",
   "execution_count": 53,
   "metadata": {},
   "outputs": [
    {
     "data": {
      "text/plain": [
       "(5,)"
      ]
     },
     "execution_count": 53,
     "metadata": {},
     "output_type": "execute_result"
    }
   ],
   "source": [
    "df_labels.drop_duplicates(inplace = True)\n",
    "\n",
    "df_labels.shape"
   ]
  },
  {
   "cell_type": "code",
   "execution_count": 54,
   "metadata": {},
   "outputs": [
    {
     "data": {
      "text/plain": [
       "(2230,)"
      ]
     },
     "execution_count": 54,
     "metadata": {},
     "output_type": "execute_result"
    }
   ],
   "source": [
    "df_content = pd.concat([df_labels, df_text], axis=0)\n",
    "\n",
    "df_content.shape"
   ]
  },
  {
   "cell_type": "code",
   "execution_count": 55,
   "metadata": {},
   "outputs": [
    {
     "name": "stdout",
     "output_type": "stream",
     "text": [
      "France starts digital terrestrial\n",
      "\n",
      "France has become the last big European country to launch a digital terrestrial TV (DTT) service.\n",
      "\n",
      "Initially, more than a third of the population will be able to receive 14 free-to-air channels. Despite the long wait for a French DTT roll-out, the new platform's backers hope to emulate the success of its UK free-to-air counterpart, Freeview. Recent figures from the UK's regulator Ofcom showed Freeview was more popular than the Sky digital satellite service. In the three months to September 2004, almost five times as many people signed up to the UK's free-to-air DTT service compared with Sky. Almost 60% of UK households have gone digital on at least one television set through cable, satellite or Freeview.\n",
      "\n",
      "The French DTT platform is known as TNT, which stands for TV numerique terrestre or digital terrestrial television. But it is being branded as Television Numerique pour Tous, or \"digital television for all\". TNT is a joint venture between public broadcaster France Televisions and a handful of cable and satellite operators. Digital terrestrial TV will launch as a free-to-air platform to start with, adding pay-TV channels later. Thirty-five contenders have bid for an additional eight frequencies on top of the 14 already allocated. \"A couple of years ago, DTT had a bad image,\" said Olivier Gerolami, chief operating officer of TNT.\n",
      "\n",
      "\"But everyone's impressed with DTT in the UK, Italy and Germany, and they realise it is a very good idea. \"France is the poorest market in Europe in terms of free-to-air national channels, so it has the potential to be one of the biggest DTT markets,\" Mr Gerolami added in remarks quoted by the US entertainment industry paper Variety. TNT aims to reach 35% of France's population at launch, from 17 transmission sites. The transmission area will initially include Paris, Lille, Lyon and Toulouse. Eventually there will be 115 sites reaching over 80% of homes. Digital terrestrial set-top boxes are available from as little as 70 euros (£50). A recent survey by Mediametrie found that 70% of people interviewed were aware of DTT, and 25% were planning to buy a digital receiver. Consumer electronics companies such as Nokia, Sagem, Sony and Thomson are gearing up for production. The Conseil Superieur de l'Audiovisuel (CSA), the French broadcasting regulator, said: \"Following the recent success of Freeview in the UK, some manufacturers are optimistic about sales prospects\". Media analysts believe that initially the majority of viewers will buy inexpensive set-top boxes that are unable to support interactive services. The CSA said the current aim of reaching 85% of the population by 2007 was achievable, but the future of the remaining TV viewers required action by the public sector. For the most part, they are people living in mountainous or border areas, which will remain beyond the reach of digital terrestrial TV for years.\n",
      "\n",
      "Up to 15 pay-TV channels will launch on DTT between September 2005 and March 2006. Leading pay-TV operators Canal Plus and TPS have submitted bids to market bouquets of channels. Free-to-air services will be broadcast in MPEG-2 format. But pay-TV operators will be allowed to broadcast in MPEG-4 - a much better compression technology - which will potentially allow for high-definition (HD) subscription services in the future. TNT expects between 700,000 and one million DTT set-top boxes to be sold in 2005. \"It is difficult to tell how quickly it will take off,\" said Mr Gerolami, \"but we're optimistic that it will revolutionise television in France.\" Other analysts were less optimistic, predicting consumers would now be less likely to sign up for pay-TV subscriptions. \"We think free DTT could put brakes on the underlying growth of pay-TV in France,\" said Henri de Bodinat, vice-president of the Arthur D. Little consultancy.\n",
      "BA to suspend two Saudi services\n",
      "\n",
      "British Airways is to halt its flights from London Heathrow to Jeddah and Riyadh in Saudi Arabia from 27 March.\n",
      "\n",
      "The airline said the decision was a commercial one due to reduced passenger demand for the services. BA currently operates four flights per week from Heathrow to Jeddah, and three weekly journeys to Riyadh. It suspended flights to Saudi Arabia for three weeks in autumn 2003 after a government warning about a \"threat to UK aviation interests in Saudi Arabia\".\n",
      "\n",
      "BA will now suspend the Saudi flights - which it says will remain \"under constant review\" - from 27 March. \"The decision to suspend flights between the UK and Saudi Arabia is a difficult one to make as we have enjoyed a long history of flying between the two countries,\" said BA director of commercial planning, Robert Boyle. \"However, the routes don't currently make a profitable contribution to our business and we are unable to sustain them while this remains the case.\" Passengers with flights booked after the suspension date will be contacted by BA for alternative arrangements to be made.\n",
      "Britons fed up with net service\n",
      "\n",
      "A survey conducted by PC Pro Magazine has revealed that many Britons are unhappy with their internet service.\n",
      "\n",
      "They are fed up with slow speeds, high prices and the level of customer service they receive. 17% of readers have switched suppliers and a further 16% are considering changing in the near future. It is particularly bad news for BT, the UK's biggest internet supplier, with almost three times as many people trying to leave as joining.\n",
      "\n",
      "A third of the 2,000 broadband users interviewed were fed up with their current providers but this could be just the tip of the iceberg thinks Tim Danton, editor of PC Pro Magazine. \"We expect these figures to leap in 2005. Every month the prices drop, and more and more people are trying to switch,\" he said. The survey found that BT and Tiscali have been actively dissuading customers from leaving by offering them a lower price when they phone up to cancel their subscription. Some readers were offered a price drop just 25p more expensive than that offered by an alternative operator, making it hardly worth while swapping.\n",
      "\n",
      "Other found themselves tied into 12-month contracts. Broadband has become hugely competitive and providers are desperate to hold on to customers. 12% of those surveyed found themselves unable to swap at all. \"We discovered a huge variety of problems, but one of the biggest issues is the current supplier withholding the information that people need to give to their new supplier,\" said Tim Danton, editor of PC Pro. \"This breaks the code of practice, but because that code is voluntary there's nothing we or Ofcom can do to help,\" he said. There is a vast choice of internet service providers in the UK now and an often bewildering array of broadband packages. With prices set to drop even further in coming months Mr Danton advises everyone to shop around carefully. \"If you just stick with your current connection then there's every chance you're being ripped off,\" he warned.\n",
      "Shares rise on new Man Utd offer\n",
      "\n",
      "Shares in Manchester United closed up 4.75% on Monday following a new offer from US tycoon Malcolm Glazer.\n",
      "\n",
      "The board of the football club is expected to meet early this week to discuss the latest proposal, which values the club at £800m ($1.5bn). Manchester United revealed on Sunday that it had received a detailed proposal from Mr Glazer, which looks set to receive more serious scrutiny. The club has previously rejected Mr Glazer's approaches out of hand. But a senior source at the club told the BBC: \"This time it's different.\" Supporters' group Shareholders United, however, urged the club to reject the new deal.\n",
      "\n",
      "A spokesman for the Shareholders United said: \"I can't see any difference (compared to Mr Glazer's previous proposals) other than £200m less debt. \"He isn't bringing any money into the club; he'll use our money to buy it.\"\n",
      "\n",
      "Mr Glazer's latest move is being led by Mr Glazer's two sons, Avi and Joel, according to the Financial Times. A proposal was received by David Gill, United's chief executive, at the end of last week, pitched at about 300p a share. David Cummings, head of UK equities for Standard Life Investments, said he believed a \"well funded\" 300p a share bid would be enough for Mr Glazer to take control of the club.\n",
      "\n",
      "\"I do not think there is anything that Manchester United fans can do about it,\" he told the BBC. \"They can complain about it but it is curtains for them. They may not want him but they are going to get him.\" The US tycoon, who has been wooing the club for the last 12 months, has approached the United board with \"detailed proposals\", it has confirmed.\n",
      "\n",
      "Mr Glazer, who owns the Tampa Bay Buccaneers team, hopes this will lead to a formal bid being accepted. He is believed to have increased the amount of equity in the new proposal, though it is not clear by how much. For his proposal to succeed, he needs the support of United's largest shareholders, the Irish horseracing tycoons JP McManus and John Magnier. They own 29% of United through their Cubic Expression investment vehicle. Mr Glazer and his family hold a stake of 28.1%. But it is not yet known whether Mr McManus and Mr Magnier would support a Glazer bid. NM Rothschild, the investment bank, is advising Mr Glazer, according to the Financial Times. His previous adviser, JPMorgan, quit last year when Mr Glazer went ahead and voted against the appointment of three United directors to the board, against its advice. But the FT said it thought JP Morgan may still have had some role in financing Mr Glazer's latest financial proposal.\n",
      "Parties build up poll war chests\n",
      "\n",
      "The Labour Party received more than £5m in donations in the final quarter of 2004, new figures show.\n",
      "\n",
      "This is nearly half of the £11,724,929 received by 16 political parties listed by the Electoral Commission. The Conservatives were in second place with donations totalling £4,610,849, while the Liberal Democrats received just over £1m. The majority of Labour's donations came from affiliated trade unions. There were also large sums from individuals. Lord Drayson, whose company PowderJect won multi-million pound contracts to provide smallpox vaccine to the government after the 11 September terror attacks, gave £500,000 to the party just days before Christmas.\n",
      "\n",
      "This followed an earlier donation of the same amount earlier in 2004. He was made a lord by Tony Blair last year. Other significant donations came from retired millionaire businessman and philanthropist Sir Christopher Ondaatje who gave the party a sum of £500,000, and refrigerator magnate William Haughey OBE who gave £330,000. The totals for the fourth quarter were well up on the same period of 2003, as the parties built up their war chests for the general election campaign. The largest donation to the Conservatives was a bequest from Ruth Beardmore of nearly £400,000. The joint founder of merchant bank Hambro Magan gave £325,417. There were also donations topping £250,000 for the Conservatives from Scottish Business Groups Focus on Scotland and the Institute of International Research, the world's largest independent conference company.\n",
      "\n",
      "Also among the gifts to the Tories were 24 donations totalling £161,840 from Bearwood Corporate Services. This company is controlled by the party's former treasurer Lord Ashcroft which has directed almost £300,000 to specific marginal constituencies over the past two years. The Liberal Democrats' largest donor was the Joseph Rowntree Reform Trust Ltd, a company which promotes political reform and constitutional change, which gave a sum of £250,000. And fast food giants McDonald's are listed as donating a sum of £10,575. This was a fee the firm paid for a room for an event held with the work and skills foundation during the party's conference. The UK Independence Party, which lost its main donor Paul Sykes amid the row over Robert Kilroy-Silk's bid for the leadership last autumn, took in £63,081. Just £8,170 of this was cash and the remainder came in gifts in kind, such as office space and printing. Registered political parties are required to set out each quarter all donations over £5,000 to their headquarters and over £1,000 to local constituency parties they receive. It is an offence for a person to knowingly or recklessly make a false declaration about party donations.\n",
      "Green fear for transport ballot\n",
      "\n",
      "The Green Party is concerned thousands of residents may not be able to vote in Edinburgh's transport referendum.\n",
      "\n",
      "Edinburgh City Council is to ballot constituents on proposals to introduce congestion charging in the capital. But Green MSP Mark Ballard fears people not on the council's edited electoral register may miss out. Local authorities can only send ballot papers to those on the edited list over non-statutory matters, such as the transport referendum. Therefore, residents who have exercised their right to have their details left off the list could miss the chance to vote.\n",
      "\n",
      "However, there is still time for those who are not on the list to contact the council and make sure they are sent ballot forms ahead of February's voting deadline. Mr Ballard said: \"This vote will set the future of transport in Edinburgh for decades to come. \"It is therefore vital that as many residents as possible in Edinburgh City and the surrounding areas, are registered to vote in the ballot. \"Many people are not aware that they may miss out on their chance to have a say. \"Everyone involved in this debate - both for and against - wants the ballot to be as fair and representative as possible, and that means encouraging people to take part.\" The ballot will ask residents to vote for or against the council's proposed congestion charge scheme and a host of transport improvements to be funded by it. The outcome of the referendum will be known next month after the ballot forms are sent out and returned to the council. Towards the end of February, the council will meet to decide whether to proceed with an application to Scottish ministers for approval for its planned congestion charging scheme and the other parts of its transport package.\n",
      "Nintendo DS aims to touch gamers\n",
      "\n",
      "The mobile gaming industry is set to explode in 2005 with a number of high-profile devices offering a range of gaming and other features such as movie and music playback. Market leader Nintendo, however, is releasing a handheld console that it says will revolutionise the way games are played.\n",
      "\n",
      "The first striking thing about the DS is how retro it looks. Far from looking like a mould-breaking handheld, it looks more like Nintendo dug out a mould from a 1980s handheld prototype. The lightweight clam shell device opens up to reveal two screens, and when switched on it instantly reveals its pedigree. Both screens are crisp and clear while the bottom of the two is touch sensitive. Nintendo has given developers free rein to utilise the dual screens and ability to control the action by simply touching the screen.\n",
      "\n",
      "The Japanese gaming giant hopes the DS will maintain the firm's pre-eminence in an increasingly-competitive mobile gaming market.\n",
      "\n",
      "Nintendo first launched its GameBoy console in 1989 and has dominated the market ever since. But its lead can no longer be taken for granted. Sony will enter the market later this year with its PlayStation Portable, while start-up companies Gizmondo and Tapwave Zodiac are also offering hybrid devices. \"We believe the DS will appeal to all ages, both genders and gamers of any skill,\" said David Yarnton, Nintendo Europe's general manager said at the recent press launch for the handheld. With its two screens, wireless connectivity and backwards compatibility with the GameBoy Advance, the DS certainly has a number of unique selling points. It went on sale in the US in mid-November priced $150 and Nintendo says sales have exceeded expectations, without giving detailed figures. Japan and Europe will have to wait until the first quarter of 2005 to get the device. With more than two million pre-orders for the device in Japan, Nintendo is confident it will keep its number one spot. But will the device prove to be as revolutionary as claimed? The game ships with a demo of Metroid Hunters - a 3D action title which can be played alone or with a group of friends using the machine's wireless capabilities. It certainly looks impressive on the small machine and plays smoothly even with a group of people.\n",
      "\n",
      "The game can be controlled by using the supplied stylus to aim. The top screen is used to navigate the action while the bottom screen offers a top-down map and the ability to switch weapons. It is certainly a unique control method and while it makes aiming more controlled it can be a little disorientating. Super Mario 64 DS is a faithful re-creation of the Nintendo 64 classic with a host of new mini-games and new levels. The game looks stunning on the portable machine and the sound too is impressive for such a small machine. One thing is for certain. Hardened gamers will have to learn to adapt to a new way of playing while it could prove to be an accessible way in to gaming for novices, Ultimately the success or failure of the device lies in the hands of developers. If they manage to create titles which use the Nintendo DS's key features then a whole new market of gamers could open up. The fear is that the touch screen and voice recognition are treated as little more than gimmicks.\n",
      "Injury sidelines Philippoussis\n",
      "\n",
      "Mark Philippoussis withdrew from the Sydney International tennis tournament as expected on Sunday after suffering a groin injury during the Hopman Cup.\n",
      "\n",
      "His participation in the Australian Open, which begins on 17 January in Melbourne, also remains in doubt. Defending women's champion Justine Henin-Hardenne is also out of the Sydney event because of a knee injury. In the only main draw men's or women's singles match on Sunday, Nathalie Dechy beat American Lisa Raymond 7-5 6-3. Number one men's seed Lleyton Hewitt begins his quest for a fourth Sydney title on Tuesday when he plays Karol Beck. Lindsay Davenport, top seed in the women's draw, has been handed a first-round bye and plays France's Dechy in the second round on Tuesday.\n",
      "Hodgson shoulders England blame\n",
      "\n",
      "Fly-half Charlie Hodgson admitted his wayward kicking played a big part in England's 18-17 defeat to France.\n",
      "\n",
      "Hodgson failed to convert three penalties and also missed a relatively easy drop goal attempt which would have given England a late win. \"I'm very disappointed with the result and with my myself,\" Hodgson said. \"It is very hard to take but it's something I will have to get through and come back stronger. My training's been good but it just didn't happen.\" Hodgson revealed that Olly Barkley had taken three penalties because they were \"out of my range\" but the centre could not convert his opportunities either, particularly the drop goal late on. \"It wasn't a good strike,\" he added. \"I felt as soon as it hit my boot it had missed. It's very disappointing, but I must recover.\" Andy Robinson said he would \"keep working on the kicking\" with his squad. However, the England coach added that he would take some positives from the defeat.\n",
      "\n",
      "\"We went out to play and played some very good rugby and what have France done?\" he said. \"They won the game from kicking penalties from our 10m line. \"It's very frustrating. The lads showed a lot of ambition in the first half, they went out to sustain it in the second but couldn't build on it. \"We took the ball into contact, and you know when you do that it is a lottery whether the referee is going to give the penalty to your side or the other side. \"We have lost a game we should have won. There is a fine line between winning and losing, and for the second week we've been on the wrong side of that line and it hurts.\"\n",
      "\n",
      "England went in at half-time with a 17-6 lead but they failed to score in the second half and Dimitri Yachvili slotted over four penalties as France overhauled the deficit. England skipper Jason Robinson admitted his side failed to cope with France's improved second-half display.\n",
      "\n",
      "\"We controlled the game in the first half but we knew that they would come out and try everything after half-time,\" he said. \"We made a lot of mistakes in the second half and they punished us. They took their chances when they came. \"It's very disappointing. Last week we lost by two points, now one point.\"\n",
      "Ebbers denies WorldCom fraud\n",
      "\n",
      "Former WorldCom chief Bernie Ebbers has denied claims that he knew accountants were doctoring the books at the firm.\n",
      "\n",
      "Speaking in court, Mr Ebbers rejected allegations he pressured ex-chief financial officer Scott Sullivan to falsify company financial statements. Mr Sullivan \"made accounting decisions,\" he told the federal court, saying his finance chief had \"a keen command of the numbers\". Mr Ebbers has denied charges of fraud and conspiracy. During his second day of questioning in the New York trial Mr Ebbers played down his working relationship with Mr Sullivan and denied he frequently met him to discuss company business when questioned by the prosecution.\n",
      "\n",
      "\"In a lot of weeks, we would speak ... three or four times,\" Mr Ebbers said, adding that conversations about finances were rarely one-on-one and were usually discussed by a \"group of people\" instead.\n",
      "\n",
      "Mr Ebbers relationship to Mr Sullivan is key to the case surrounding financial corruption that led to the collapse of the firm in 2002 following the discovery of an $11bn accounting fraud. The prosecution's star witness is Mr Sullivan, one of six WorldCom executives indicted in the case, He has pleaded guilty to fraud and appeared as a prosecution witness as part of an agreement with prosecutors. During his time on the witness stand Mr Sullivan repeatedly told jurors he met frequently with Mr Ebbers, told him about changes made to WorldCom's accounts to hide costs and had warned him such practises were improper. However during the case on Tuesday Mr Ebbers denied the allegations. \"I wasn't advised by Scott Sullivan of anything ever being wrong,\" he told the court. \"He's never told me he made an entry that wasn't right. If he had, we wouldn't be here today.\" Mr Ebbers could face a jail sentence of up to 85 years if convicted of all the charges he is facing. Shareholders lost about $180bn in WorldCom's collapse, 20,000 workers lost their jobs and the company went bankrupt. The company emerged from bankruptcy last year and is now known as MCI.\n"
     ]
    }
   ],
   "source": [
    "for text in df_text.sample(10, random_state=200):\n",
    "    print(text)"
   ]
  },
  {
   "cell_type": "code",
   "execution_count": 56,
   "metadata": {},
   "outputs": [
    {
     "name": "stdout",
     "output_type": "stream",
     "text": [
      "sport \n",
      "\n",
      "tech \n",
      "\n",
      "business \n",
      "\n",
      "entertainment \n",
      "\n",
      "politics \n",
      "\n"
     ]
    }
   ],
   "source": [
    "# Verifique o número de linhas no dataframe\n",
    "num_rows = len(df_labels)\n",
    "\n",
    "# Se houver menos de 10 linhas, amostre todas as linhas disponíveis\n",
    "n_samples = min(10, num_rows)\n",
    "\n",
    "# Amostrar n linhas\n",
    "for labels in df_labels.sample(n_samples, random_state=200).values:\n",
    "    print(labels, '\\n')"
   ]
  },
  {
   "cell_type": "code",
   "execution_count": 57,
   "metadata": {},
   "outputs": [
    {
     "data": {
      "text/plain": [
       "count    2230.000000\n",
       "mean      383.181614\n",
       "std       238.596357\n",
       "min         1.000000\n",
       "25%       245.000000\n",
       "50%       331.000000\n",
       "75%       471.000000\n",
       "max      4432.000000\n",
       "dtype: float64"
      ]
     },
     "execution_count": 57,
     "metadata": {},
     "output_type": "execute_result"
    }
   ],
   "source": [
    "word_counts_content = df_content.str.split().apply(len)\n",
    "word_counts_labels = df_labels.str.split().apply(len)\n",
    "word_counts_text = df_text.str.split().apply(len)\n",
    "\n",
    "word_counts_content.describe()"
   ]
  },
  {
   "cell_type": "code",
   "execution_count": 58,
   "metadata": {},
   "outputs": [
    {
     "data": {
      "text/plain": [
       "count    5.0\n",
       "mean     1.0\n",
       "std      0.0\n",
       "min      1.0\n",
       "25%      1.0\n",
       "50%      1.0\n",
       "75%      1.0\n",
       "max      1.0\n",
       "Name: labels, dtype: float64"
      ]
     },
     "execution_count": 58,
     "metadata": {},
     "output_type": "execute_result"
    }
   ],
   "source": [
    "word_counts_labels.describe()"
   ]
  },
  {
   "cell_type": "code",
   "execution_count": 59,
   "metadata": {},
   "outputs": [
    {
     "data": {
      "text/plain": [
       "count    2225.000000\n",
       "mean      384.040449\n",
       "std       238.174497\n",
       "min        89.000000\n",
       "25%       246.000000\n",
       "50%       332.000000\n",
       "75%       471.000000\n",
       "max      4432.000000\n",
       "Name: text, dtype: float64"
      ]
     },
     "execution_count": 59,
     "metadata": {},
     "output_type": "execute_result"
    }
   ],
   "source": [
    "word_counts_text.describe()"
   ]
  },
  {
   "cell_type": "code",
   "execution_count": 60,
   "metadata": {},
   "outputs": [
    {
     "data": {
      "application/vnd.plotly.v1+json": {
       "config": {
        "plotlyServerURL": "https://plot.ly"
       },
       "data": [
        {
         "type": "histogram",
         "x": [
          1,
          1,
          1,
          1,
          1,
          421,
          384,
          264,
          406,
          265,
          184,
          284,
          321,
          229,
          227,
          185,
          300,
          299,
          466,
          606,
          247,
          213,
          175,
          270,
          658,
          350,
          306,
          208,
          328,
          455,
          297,
          274,
          211,
          403,
          415,
          304,
          278,
          226,
          308,
          199,
          349,
          419,
          153,
          210,
          229,
          328,
          228,
          193,
          404,
          311,
          293,
          274,
          265,
          617,
          308,
          295,
          484,
          236,
          254,
          365,
          262,
          440,
          198,
          294,
          143,
          266,
          319,
          289,
          291,
          355,
          319,
          294,
          389,
          536,
          184,
          206,
          278,
          253,
          254,
          214,
          282,
          443,
          260,
          250,
          191,
          265,
          207,
          534,
          210,
          228,
          191,
          294,
          194,
          376,
          377,
          314,
          361,
          315,
          210,
          264,
          140,
          444,
          217,
          430,
          342,
          352,
          227,
          478,
          369,
          227,
          305,
          295,
          171,
          149,
          269,
          527,
          287,
          370,
          351,
          203,
          235,
          420,
          221,
          456,
          302,
          520,
          386,
          191,
          171,
          242,
          371,
          481,
          303,
          162,
          422,
          446,
          216,
          281,
          364,
          404,
          535,
          219,
          313,
          307,
          442,
          260,
          339,
          263,
          159,
          252,
          875,
          209,
          259,
          595,
          365,
          287,
          332,
          400,
          360,
          268,
          284,
          271,
          160,
          634,
          387,
          366,
          291,
          441,
          414,
          363,
          264,
          213,
          233,
          172,
          224,
          217,
          413,
          365,
          277,
          209,
          292,
          346,
          267,
          219,
          356,
          471,
          256,
          823,
          347,
          304,
          213,
          305,
          402,
          424,
          308,
          487,
          398,
          297,
          177,
          435,
          302,
          270,
          282,
          336,
          642,
          280,
          349,
          285,
          475,
          272,
          301,
          345,
          292,
          481,
          399,
          236,
          274,
          427,
          297,
          520,
          356,
          498,
          209,
          264,
          322,
          322,
          454,
          263,
          530,
          225,
          294,
          191,
          219,
          453,
          246,
          309,
          259,
          167,
          179,
          212,
          391,
          179,
          314,
          239,
          297,
          773,
          611,
          883,
          501,
          809,
          388,
          267,
          322,
          604,
          289,
          300,
          608,
          284,
          294,
          173,
          203,
          430,
          432,
          224,
          500,
          732,
          546,
          320,
          395,
          294,
          709,
          192,
          793,
          414,
          489,
          473,
          382,
          504,
          268,
          286,
          173,
          859,
          191,
          425,
          168,
          207,
          322,
          156,
          732,
          251,
          375,
          891,
          237,
          324,
          505,
          429,
          375,
          386,
          500,
          318,
          524,
          286,
          249,
          488,
          186,
          185,
          218,
          327,
          272,
          246,
          196,
          444,
          332,
          222,
          225,
          206,
          281,
          272,
          728,
          273,
          359,
          374,
          423,
          313,
          261,
          147,
          154,
          461,
          393,
          269,
          388,
          305,
          232,
          340,
          867,
          277,
          545,
          294,
          257,
          291,
          391,
          334,
          241,
          291,
          338,
          253,
          345,
          149,
          423,
          430,
          656,
          244,
          486,
          355,
          214,
          211,
          146,
          891,
          558,
          178,
          432,
          273,
          440,
          359,
          219,
          244,
          258,
          255,
          212,
          191,
          410,
          328,
          277,
          176,
          211,
          203,
          162,
          167,
          261,
          287,
          311,
          143,
          228,
          213,
          225,
          233,
          297,
          308,
          329,
          187,
          331,
          345,
          282,
          278,
          233,
          364,
          360,
          336,
          175,
          259,
          153,
          323,
          278,
          559,
          316,
          297,
          308,
          373,
          269,
          492,
          481,
          253,
          146,
          647,
          178,
          258,
          326,
          456,
          352,
          401,
          375,
          268,
          145,
          236,
          248,
          367,
          230,
          255,
          353,
          237,
          411,
          302,
          552,
          286,
          405,
          162,
          187,
          174,
          587,
          425,
          294,
          440,
          505,
          222,
          416,
          324,
          318,
          202,
          274,
          367,
          316,
          224,
          383,
          491,
          408,
          282,
          337,
          317,
          437,
          386,
          200,
          377,
          352,
          360,
          321,
          306,
          297,
          165,
          225,
          208,
          301,
          207,
          281,
          330,
          142,
          482,
          476,
          155,
          200,
          287,
          214,
          250,
          285,
          367,
          170,
          351,
          492,
          184,
          211,
          250,
          299,
          707,
          309,
          279,
          309,
          349,
          165,
          375,
          520,
          503,
          189,
          293,
          479,
          235,
          193,
          551,
          213,
          210,
          448,
          247,
          266,
          468,
          223,
          428,
          150,
          190,
          253,
          192,
          214,
          179,
          228,
          359,
          302,
          335,
          314,
          218,
          375,
          480,
          238,
          259,
          649,
          252,
          228,
          152,
          277,
          454,
          597,
          289,
          354,
          299,
          367,
          298,
          253,
          299,
          226,
          259,
          508,
          334,
          318,
          262,
          236,
          259,
          321,
          385,
          264,
          213,
          192,
          378,
          301,
          233,
          216,
          232,
          333,
          274,
          269,
          334,
          206,
          264,
          295,
          292,
          321,
          242,
          226,
          282,
          176,
          752,
          250,
          318,
          557,
          156,
          309,
          252,
          226,
          334,
          225,
          287,
          334,
          207,
          251,
          347,
          222,
          335,
          332,
          214,
          253,
          317,
          385,
          156,
          220,
          394,
          323,
          174,
          251,
          158,
          301,
          193,
          143,
          218,
          413,
          533,
          274,
          309,
          203,
          230,
          311,
          304,
          215,
          389,
          211,
          254,
          201,
          191,
          358,
          250,
          258,
          239,
          183,
          239,
          252,
          270,
          234,
          283,
          259,
          237,
          619,
          306,
          742,
          263,
          237,
          242,
          204,
          389,
          211,
          252,
          360,
          1280,
          419,
          403,
          225,
          216,
          233,
          298,
          306,
          193,
          229,
          668,
          560,
          394,
          196,
          403,
          271,
          248,
          432,
          326,
          189,
          290,
          289,
          599,
          200,
          211,
          250,
          146,
          306,
          369,
          206,
          396,
          232,
          219,
          195,
          176,
          291,
          381,
          319,
          256,
          179,
          244,
          229,
          244,
          193,
          246,
          249,
          164,
          234,
          195,
          218,
          634,
          399,
          277,
          402,
          236,
          164,
          217,
          221,
          189,
          349,
          396,
          276,
          471,
          232,
          226,
          263,
          457,
          177,
          234,
          179,
          556,
          411,
          503,
          245,
          234,
          289,
          314,
          234,
          204,
          249,
          164,
          251,
          587,
          471,
          252,
          195,
          201,
          252,
          230,
          271,
          414,
          174,
          255,
          231,
          286,
          288,
          220,
          335,
          560,
          193,
          412,
          202,
          183,
          314,
          254,
          567,
          228,
          261,
          444,
          250,
          212,
          201,
          197,
          664,
          449,
          201,
          235,
          467,
          145,
          232,
          360,
          224,
          3482,
          394,
          525,
          2347,
          312,
          350,
          566,
          186,
          252,
          838,
          594,
          578,
          259,
          184,
          271,
          384,
          299,
          202,
          533,
          192,
          289,
          171,
          672,
          358,
          239,
          245,
          331,
          806,
          242,
          449,
          233,
          549,
          243,
          230,
          297,
          363,
          378,
          183,
          413,
          295,
          262,
          372,
          224,
          280,
          213,
          269,
          245,
          500,
          281,
          178,
          427,
          241,
          724,
          591,
          326,
          226,
          166,
          179,
          363,
          291,
          258,
          1046,
          296,
          525,
          175,
          163,
          337,
          197,
          376,
          243,
          511,
          220,
          453,
          639,
          304,
          323,
          241,
          227,
          206,
          176,
          285,
          274,
          274,
          399,
          236,
          216,
          226,
          242,
          215,
          227,
          175,
          167,
          226,
          315,
          384,
          226,
          246,
          207,
          319,
          494,
          2391,
          601,
          510,
          378,
          573,
          470,
          186,
          264,
          274,
          299,
          450,
          201,
          213,
          322,
          601,
          998,
          485,
          250,
          238,
          632,
          471,
          224,
          517,
          322,
          267,
          393,
          197,
          196,
          216,
          234,
          225,
          273,
          261,
          268,
          450,
          379,
          523,
          252,
          504,
          347,
          514,
          536,
          530,
          194,
          283,
          428,
          568,
          473,
          153,
          236,
          170,
          258,
          631,
          554,
          483,
          431,
          319,
          258,
          239,
          260,
          663,
          248,
          421,
          360,
          468,
          345,
          455,
          441,
          233,
          406,
          219,
          317,
          532,
          578,
          636,
          528,
          257,
          219,
          284,
          439,
          511,
          529,
          484,
          689,
          380,
          428,
          578,
          250,
          512,
          489,
          201,
          402,
          514,
          455,
          317,
          568,
          259,
          315,
          450,
          532,
          568,
          547,
          375,
          527,
          283,
          531,
          383,
          201,
          435,
          402,
          247,
          641,
          480,
          495,
          342,
          517,
          285,
          258,
          502,
          404,
          616,
          564,
          593,
          264,
          181,
          412,
          259,
          511,
          447,
          379,
          503,
          355,
          435,
          615,
          575,
          474,
          369,
          472,
          533,
          500,
          359,
          180,
          299,
          483,
          928,
          376,
          332,
          301,
          585,
          503,
          277,
          422,
          461,
          394,
          540,
          579,
          162,
          609,
          379,
          460,
          614,
          621,
          223,
          435,
          355,
          317,
          287,
          461,
          603,
          492,
          600,
          402,
          313,
          226,
          540,
          540,
          448,
          224,
          162,
          363,
          465,
          432,
          416,
          248,
          464,
          488,
          421,
          511,
          456,
          419,
          519,
          263,
          514,
          519,
          308,
          313,
          256,
          307,
          507,
          384,
          398,
          604,
          426,
          461,
          256,
          391,
          407,
          677,
          399,
          508,
          476,
          213,
          474,
          526,
          408,
          579,
          339,
          570,
          426,
          456,
          389,
          196,
          538,
          283,
          244,
          566,
          518,
          276,
          336,
          426,
          308,
          484,
          449,
          443,
          336,
          468,
          422,
          417,
          424,
          249,
          245,
          293,
          336,
          501,
          529,
          159,
          574,
          486,
          685,
          365,
          274,
          625,
          494,
          470,
          484,
          318,
          358,
          597,
          412,
          280,
          502,
          299,
          481,
          474,
          399,
          335,
          322,
          588,
          175,
          162,
          152,
          349,
          411,
          371,
          571,
          433,
          196,
          456,
          500,
          571,
          263,
          289,
          142,
          1182,
          765,
          563,
          625,
          748,
          622,
          584,
          573,
          629,
          698,
          527,
          560,
          494,
          835,
          609,
          335,
          321,
          858,
          542,
          179,
          509,
          569,
          548,
          408,
          386,
          445,
          462,
          293,
          324,
          491,
          330,
          497,
          579,
          495,
          669,
          285,
          381,
          277,
          327,
          427,
          4432,
          180,
          674,
          2393,
          304,
          338,
          312,
          427,
          514,
          342,
          540,
          534,
          448,
          613,
          156,
          514,
          381,
          289,
          202,
          232,
          162,
          375,
          370,
          410,
          280,
          729,
          418,
          473,
          298,
          478,
          543,
          274,
          435,
          247,
          609,
          320,
          419,
          708,
          641,
          160,
          253,
          499,
          423,
          440,
          428,
          401,
          814,
          579,
          439,
          555,
          578,
          358,
          359,
          162,
          596,
          356,
          366,
          455,
          483,
          650,
          433,
          514,
          494,
          878,
          291,
          498,
          483,
          321,
          283,
          504,
          509,
          538,
          587,
          372,
          416,
          387,
          502,
          483,
          501,
          364,
          538,
          377,
          496,
          686,
          400,
          717,
          251,
          276,
          574,
          479,
          3295,
          174,
          547,
          519,
          577,
          315,
          469,
          453,
          517,
          597,
          569,
          183,
          325,
          767,
          437,
          509,
          695,
          89,
          155,
          543,
          669,
          264,
          276,
          484,
          260,
          554,
          986,
          457,
          612,
          274,
          259,
          857,
          250,
          196,
          550,
          258,
          293,
          480,
          211,
          144,
          377,
          195,
          161,
          146,
          125,
          235,
          387,
          250,
          192,
          224,
          309,
          482,
          145,
          259,
          256,
          234,
          138,
          224,
          260,
          219,
          409,
          167,
          287,
          159,
          169,
          318,
          141,
          728,
          145,
          200,
          254,
          944,
          302,
          220,
          278,
          389,
          171,
          738,
          229,
          228,
          497,
          279,
          301,
          195,
          285,
          421,
          456,
          261,
          278,
          142,
          159,
          301,
          256,
          140,
          772,
          867,
          681,
          377,
          667,
          235,
          277,
          203,
          275,
          797,
          180,
          649,
          811,
          690,
          195,
          566,
          179,
          131,
          511,
          224,
          122,
          170,
          238,
          221,
          338,
          392,
          127,
          142,
          131,
          175,
          184,
          457,
          297,
          347,
          297,
          150,
          773,
          222,
          529,
          264,
          426,
          141,
          239,
          373,
          620,
          348,
          167,
          592,
          635,
          563,
          451,
          507,
          435,
          221,
          439,
          1355,
          241,
          311,
          648,
          156,
          198,
          1045,
          499,
          186,
          1356,
          313,
          221,
          301,
          296,
          415,
          156,
          245,
          207,
          139,
          249,
          246,
          346,
          301,
          161,
          147,
          344,
          251,
          517,
          384,
          158,
          408,
          145,
          226,
          305,
          453,
          335,
          160,
          258,
          311,
          232,
          451,
          207,
          302,
          320,
          288,
          314,
          380,
          260,
          524,
          175,
          147,
          508,
          216,
          177,
          319,
          137,
          247,
          247,
          367,
          131,
          350,
          150,
          159,
          134,
          318,
          257,
          241,
          648,
          649,
          515,
          515,
          305,
          216,
          229,
          287,
          196,
          314,
          300,
          266,
          114,
          407,
          232,
          152,
          410,
          286,
          321,
          226,
          443,
          273,
          283,
          197,
          125,
          223,
          340,
          264,
          403,
          422,
          335,
          590,
          343,
          420,
          188,
          126,
          265,
          578,
          338,
          828,
          285,
          134,
          214,
          397,
          412,
          144,
          123,
          245,
          537,
          404,
          149,
          185,
          434,
          441,
          335,
          206,
          777,
          313,
          181,
          219,
          139,
          526,
          196,
          235,
          440,
          252,
          307,
          549,
          306,
          373,
          120,
          330,
          610,
          189,
          325,
          444,
          189,
          133,
          249,
          249,
          191,
          492,
          153,
          132,
          176,
          352,
          219,
          151,
          339,
          592,
          427,
          241,
          161,
          265,
          283,
          387,
          254,
          292,
          204,
          424,
          130,
          196,
          266,
          162,
          501,
          395,
          387,
          240,
          320,
          227,
          386,
          444,
          349,
          230,
          316,
          390,
          225,
          164,
          186,
          181,
          423,
          298,
          223,
          471,
          453,
          234,
          155,
          247,
          357,
          628,
          437,
          411,
          606,
          724,
          614,
          472,
          289,
          327,
          153,
          276,
          123,
          399,
          222,
          425,
          523,
          133,
          115,
          294,
          444,
          470,
          471,
          476,
          511,
          341,
          406,
          269,
          219,
          400,
          348,
          461,
          298,
          442,
          220,
          333,
          249,
          341,
          304,
          210,
          297,
          299,
          386,
          190,
          212,
          317,
          258,
          508,
          294,
          156,
          243,
          455,
          370,
          238,
          302,
          205,
          292,
          778,
          357,
          376,
          410,
          725,
          213,
          322,
          1662,
          242,
          430,
          263,
          745,
          383,
          637,
          352,
          379,
          397,
          235,
          425,
          535,
          406,
          506,
          295,
          506,
          152,
          217,
          174,
          543,
          188,
          185,
          189,
          662,
          353,
          433,
          245,
          319,
          312,
          623,
          240,
          601,
          632,
          729,
          386,
          471,
          219,
          373,
          317,
          254,
          314,
          563,
          676,
          398,
          723,
          220,
          180,
          224,
          301,
          340,
          153,
          439,
          255,
          345,
          311,
          203,
          190,
          204,
          265,
          277,
          248,
          346,
          185,
          291,
          265,
          262,
          248,
          232,
          165,
          161,
          167,
          151,
          149,
          289,
          495,
          309,
          413,
          480,
          306,
          200,
          158,
          163,
          145,
          277,
          156,
          124,
          229,
          181,
          183,
          305,
          201,
          162,
          423,
          320,
          419,
          129,
          401,
          447,
          447,
          130,
          351,
          420,
          387,
          234,
          841,
          352,
          228,
          228,
          491,
          296,
          173,
          356,
          171,
          137,
          416,
          213,
          376,
          420,
          421,
          1383,
          249,
          608,
          184,
          681,
          268,
          251,
          126,
          205,
          420,
          130,
          331,
          294,
          134,
          138,
          130,
          239,
          133,
          206,
          322,
          215,
          672,
          383,
          212,
          464,
          804,
          629,
          278,
          284,
          1234,
          508,
          570,
          265,
          529,
          283,
          292,
          689,
          522,
          377,
          478,
          466,
          339,
          304,
          420,
          287,
          197,
          447,
          550,
          465,
          380,
          290,
          891,
          822,
          346,
          550,
          403,
          212,
          263,
          334,
          215,
          560,
          487,
          262,
          341,
          321,
          250,
          334,
          325,
          374,
          473,
          430,
          394,
          432,
          426,
          258,
          245,
          588,
          228,
          344,
          630,
          277,
          420,
          434,
          464,
          659,
          328,
          511,
          625,
          404,
          573,
          307,
          698,
          886,
          543,
          500,
          272,
          336,
          629,
          328,
          434,
          294,
          500,
          484,
          445,
          506,
          400,
          460,
          644,
          510,
          365,
          691,
          353,
          416,
          777,
          897,
          913,
          295,
          468,
          446,
          700,
          367,
          355,
          756,
          569,
          464,
          415,
          686,
          307,
          613,
          390,
          1028,
          297,
          336,
          563,
          466,
          388,
          331,
          288,
          335,
          385,
          465,
          366,
          684,
          594,
          364,
          651,
          327,
          364,
          256,
          420,
          438,
          383,
          278,
          560,
          587,
          854,
          319,
          912,
          624,
          762,
          500,
          369,
          806,
          548,
          814,
          485,
          403,
          409,
          357,
          233,
          335,
          635,
          375,
          567,
          960,
          738,
          671,
          519,
          402,
          409,
          327,
          798,
          233,
          697,
          912,
          340,
          340,
          447,
          578,
          314,
          545,
          327,
          364,
          723,
          898,
          420,
          278,
          392,
          438,
          383,
          560,
          268,
          298,
          355,
          806,
          568,
          349,
          640,
          1349,
          532,
          330,
          600,
          368,
          636,
          353,
          608,
          420,
          360,
          923,
          839,
          352,
          433,
          504,
          474,
          367,
          382,
          646,
          303,
          617,
          264,
          525,
          531,
          629,
          621,
          375,
          447,
          730,
          391,
          523,
          321,
          517,
          349,
          715,
          504,
          321,
          629,
          531,
          357,
          658,
          809,
          328,
          438,
          230,
          314,
          645,
          670,
          401,
          231,
          181,
          217,
          643,
          232,
          243,
          489,
          501,
          709,
          399,
          293,
          241,
          321,
          340,
          452,
          284,
          384,
          269,
          324,
          470,
          291,
          264,
          327,
          440,
          514,
          216,
          436,
          808,
          368,
          348,
          585,
          553,
          397,
          727,
          271,
          290,
          423,
          393,
          498,
          581,
          602,
          452,
          395,
          563,
          764,
          558,
          734,
          162,
          729,
          808,
          327,
          800,
          446,
          331,
          697,
          392,
          671,
          739,
          658,
          636,
          440,
          436,
          727,
          850,
          1044,
          395,
          272,
          729,
          694,
          756,
          706,
          445,
          847,
          365,
          940,
          691,
          897,
          245,
          550,
          614,
          197,
          434,
          825,
          476,
          421,
          630,
          394,
          321,
          663,
          310,
          325,
          339,
          481,
          283,
          265,
          560,
          264,
          215,
          816,
          807,
          741,
          659,
          262,
          475,
          251,
          374,
          338,
          268,
          275,
          393,
          732,
          459,
          798,
          492,
          400,
          273,
          494,
          863,
          399,
          500,
          516,
          1003,
          410,
          810,
          483,
          476,
          447,
          1003,
          397,
          811,
          519,
          455,
          369,
          629,
          622,
          328,
          434,
          256,
          543,
          487,
          295,
          586,
          1528,
          304,
          511,
          625,
          712,
          581,
          316,
          792,
          335,
          569,
          646,
          337,
          808,
          335,
          500,
          835,
          863,
          1001,
          420,
          357,
          1050,
          379,
          2969
         ]
        }
       ],
       "layout": {
        "template": {
         "data": {
          "bar": [
           {
            "error_x": {
             "color": "#2a3f5f"
            },
            "error_y": {
             "color": "#2a3f5f"
            },
            "marker": {
             "line": {
              "color": "#E5ECF6",
              "width": 0.5
             },
             "pattern": {
              "fillmode": "overlay",
              "size": 10,
              "solidity": 0.2
             }
            },
            "type": "bar"
           }
          ],
          "barpolar": [
           {
            "marker": {
             "line": {
              "color": "#E5ECF6",
              "width": 0.5
             },
             "pattern": {
              "fillmode": "overlay",
              "size": 10,
              "solidity": 0.2
             }
            },
            "type": "barpolar"
           }
          ],
          "carpet": [
           {
            "aaxis": {
             "endlinecolor": "#2a3f5f",
             "gridcolor": "white",
             "linecolor": "white",
             "minorgridcolor": "white",
             "startlinecolor": "#2a3f5f"
            },
            "baxis": {
             "endlinecolor": "#2a3f5f",
             "gridcolor": "white",
             "linecolor": "white",
             "minorgridcolor": "white",
             "startlinecolor": "#2a3f5f"
            },
            "type": "carpet"
           }
          ],
          "choropleth": [
           {
            "colorbar": {
             "outlinewidth": 0,
             "ticks": ""
            },
            "type": "choropleth"
           }
          ],
          "contour": [
           {
            "colorbar": {
             "outlinewidth": 0,
             "ticks": ""
            },
            "colorscale": [
             [
              0,
              "#0d0887"
             ],
             [
              0.1111111111111111,
              "#46039f"
             ],
             [
              0.2222222222222222,
              "#7201a8"
             ],
             [
              0.3333333333333333,
              "#9c179e"
             ],
             [
              0.4444444444444444,
              "#bd3786"
             ],
             [
              0.5555555555555556,
              "#d8576b"
             ],
             [
              0.6666666666666666,
              "#ed7953"
             ],
             [
              0.7777777777777778,
              "#fb9f3a"
             ],
             [
              0.8888888888888888,
              "#fdca26"
             ],
             [
              1,
              "#f0f921"
             ]
            ],
            "type": "contour"
           }
          ],
          "contourcarpet": [
           {
            "colorbar": {
             "outlinewidth": 0,
             "ticks": ""
            },
            "type": "contourcarpet"
           }
          ],
          "heatmap": [
           {
            "colorbar": {
             "outlinewidth": 0,
             "ticks": ""
            },
            "colorscale": [
             [
              0,
              "#0d0887"
             ],
             [
              0.1111111111111111,
              "#46039f"
             ],
             [
              0.2222222222222222,
              "#7201a8"
             ],
             [
              0.3333333333333333,
              "#9c179e"
             ],
             [
              0.4444444444444444,
              "#bd3786"
             ],
             [
              0.5555555555555556,
              "#d8576b"
             ],
             [
              0.6666666666666666,
              "#ed7953"
             ],
             [
              0.7777777777777778,
              "#fb9f3a"
             ],
             [
              0.8888888888888888,
              "#fdca26"
             ],
             [
              1,
              "#f0f921"
             ]
            ],
            "type": "heatmap"
           }
          ],
          "heatmapgl": [
           {
            "colorbar": {
             "outlinewidth": 0,
             "ticks": ""
            },
            "colorscale": [
             [
              0,
              "#0d0887"
             ],
             [
              0.1111111111111111,
              "#46039f"
             ],
             [
              0.2222222222222222,
              "#7201a8"
             ],
             [
              0.3333333333333333,
              "#9c179e"
             ],
             [
              0.4444444444444444,
              "#bd3786"
             ],
             [
              0.5555555555555556,
              "#d8576b"
             ],
             [
              0.6666666666666666,
              "#ed7953"
             ],
             [
              0.7777777777777778,
              "#fb9f3a"
             ],
             [
              0.8888888888888888,
              "#fdca26"
             ],
             [
              1,
              "#f0f921"
             ]
            ],
            "type": "heatmapgl"
           }
          ],
          "histogram": [
           {
            "marker": {
             "pattern": {
              "fillmode": "overlay",
              "size": 10,
              "solidity": 0.2
             }
            },
            "type": "histogram"
           }
          ],
          "histogram2d": [
           {
            "colorbar": {
             "outlinewidth": 0,
             "ticks": ""
            },
            "colorscale": [
             [
              0,
              "#0d0887"
             ],
             [
              0.1111111111111111,
              "#46039f"
             ],
             [
              0.2222222222222222,
              "#7201a8"
             ],
             [
              0.3333333333333333,
              "#9c179e"
             ],
             [
              0.4444444444444444,
              "#bd3786"
             ],
             [
              0.5555555555555556,
              "#d8576b"
             ],
             [
              0.6666666666666666,
              "#ed7953"
             ],
             [
              0.7777777777777778,
              "#fb9f3a"
             ],
             [
              0.8888888888888888,
              "#fdca26"
             ],
             [
              1,
              "#f0f921"
             ]
            ],
            "type": "histogram2d"
           }
          ],
          "histogram2dcontour": [
           {
            "colorbar": {
             "outlinewidth": 0,
             "ticks": ""
            },
            "colorscale": [
             [
              0,
              "#0d0887"
             ],
             [
              0.1111111111111111,
              "#46039f"
             ],
             [
              0.2222222222222222,
              "#7201a8"
             ],
             [
              0.3333333333333333,
              "#9c179e"
             ],
             [
              0.4444444444444444,
              "#bd3786"
             ],
             [
              0.5555555555555556,
              "#d8576b"
             ],
             [
              0.6666666666666666,
              "#ed7953"
             ],
             [
              0.7777777777777778,
              "#fb9f3a"
             ],
             [
              0.8888888888888888,
              "#fdca26"
             ],
             [
              1,
              "#f0f921"
             ]
            ],
            "type": "histogram2dcontour"
           }
          ],
          "mesh3d": [
           {
            "colorbar": {
             "outlinewidth": 0,
             "ticks": ""
            },
            "type": "mesh3d"
           }
          ],
          "parcoords": [
           {
            "line": {
             "colorbar": {
              "outlinewidth": 0,
              "ticks": ""
             }
            },
            "type": "parcoords"
           }
          ],
          "pie": [
           {
            "automargin": true,
            "type": "pie"
           }
          ],
          "scatter": [
           {
            "fillpattern": {
             "fillmode": "overlay",
             "size": 10,
             "solidity": 0.2
            },
            "type": "scatter"
           }
          ],
          "scatter3d": [
           {
            "line": {
             "colorbar": {
              "outlinewidth": 0,
              "ticks": ""
             }
            },
            "marker": {
             "colorbar": {
              "outlinewidth": 0,
              "ticks": ""
             }
            },
            "type": "scatter3d"
           }
          ],
          "scattercarpet": [
           {
            "marker": {
             "colorbar": {
              "outlinewidth": 0,
              "ticks": ""
             }
            },
            "type": "scattercarpet"
           }
          ],
          "scattergeo": [
           {
            "marker": {
             "colorbar": {
              "outlinewidth": 0,
              "ticks": ""
             }
            },
            "type": "scattergeo"
           }
          ],
          "scattergl": [
           {
            "marker": {
             "colorbar": {
              "outlinewidth": 0,
              "ticks": ""
             }
            },
            "type": "scattergl"
           }
          ],
          "scattermapbox": [
           {
            "marker": {
             "colorbar": {
              "outlinewidth": 0,
              "ticks": ""
             }
            },
            "type": "scattermapbox"
           }
          ],
          "scatterpolar": [
           {
            "marker": {
             "colorbar": {
              "outlinewidth": 0,
              "ticks": ""
             }
            },
            "type": "scatterpolar"
           }
          ],
          "scatterpolargl": [
           {
            "marker": {
             "colorbar": {
              "outlinewidth": 0,
              "ticks": ""
             }
            },
            "type": "scatterpolargl"
           }
          ],
          "scatterternary": [
           {
            "marker": {
             "colorbar": {
              "outlinewidth": 0,
              "ticks": ""
             }
            },
            "type": "scatterternary"
           }
          ],
          "surface": [
           {
            "colorbar": {
             "outlinewidth": 0,
             "ticks": ""
            },
            "colorscale": [
             [
              0,
              "#0d0887"
             ],
             [
              0.1111111111111111,
              "#46039f"
             ],
             [
              0.2222222222222222,
              "#7201a8"
             ],
             [
              0.3333333333333333,
              "#9c179e"
             ],
             [
              0.4444444444444444,
              "#bd3786"
             ],
             [
              0.5555555555555556,
              "#d8576b"
             ],
             [
              0.6666666666666666,
              "#ed7953"
             ],
             [
              0.7777777777777778,
              "#fb9f3a"
             ],
             [
              0.8888888888888888,
              "#fdca26"
             ],
             [
              1,
              "#f0f921"
             ]
            ],
            "type": "surface"
           }
          ],
          "table": [
           {
            "cells": {
             "fill": {
              "color": "#EBF0F8"
             },
             "line": {
              "color": "white"
             }
            },
            "header": {
             "fill": {
              "color": "#C8D4E3"
             },
             "line": {
              "color": "white"
             }
            },
            "type": "table"
           }
          ]
         },
         "layout": {
          "annotationdefaults": {
           "arrowcolor": "#2a3f5f",
           "arrowhead": 0,
           "arrowwidth": 1
          },
          "autotypenumbers": "strict",
          "coloraxis": {
           "colorbar": {
            "outlinewidth": 0,
            "ticks": ""
           }
          },
          "colorscale": {
           "diverging": [
            [
             0,
             "#8e0152"
            ],
            [
             0.1,
             "#c51b7d"
            ],
            [
             0.2,
             "#de77ae"
            ],
            [
             0.3,
             "#f1b6da"
            ],
            [
             0.4,
             "#fde0ef"
            ],
            [
             0.5,
             "#f7f7f7"
            ],
            [
             0.6,
             "#e6f5d0"
            ],
            [
             0.7,
             "#b8e186"
            ],
            [
             0.8,
             "#7fbc41"
            ],
            [
             0.9,
             "#4d9221"
            ],
            [
             1,
             "#276419"
            ]
           ],
           "sequential": [
            [
             0,
             "#0d0887"
            ],
            [
             0.1111111111111111,
             "#46039f"
            ],
            [
             0.2222222222222222,
             "#7201a8"
            ],
            [
             0.3333333333333333,
             "#9c179e"
            ],
            [
             0.4444444444444444,
             "#bd3786"
            ],
            [
             0.5555555555555556,
             "#d8576b"
            ],
            [
             0.6666666666666666,
             "#ed7953"
            ],
            [
             0.7777777777777778,
             "#fb9f3a"
            ],
            [
             0.8888888888888888,
             "#fdca26"
            ],
            [
             1,
             "#f0f921"
            ]
           ],
           "sequentialminus": [
            [
             0,
             "#0d0887"
            ],
            [
             0.1111111111111111,
             "#46039f"
            ],
            [
             0.2222222222222222,
             "#7201a8"
            ],
            [
             0.3333333333333333,
             "#9c179e"
            ],
            [
             0.4444444444444444,
             "#bd3786"
            ],
            [
             0.5555555555555556,
             "#d8576b"
            ],
            [
             0.6666666666666666,
             "#ed7953"
            ],
            [
             0.7777777777777778,
             "#fb9f3a"
            ],
            [
             0.8888888888888888,
             "#fdca26"
            ],
            [
             1,
             "#f0f921"
            ]
           ]
          },
          "colorway": [
           "#636efa",
           "#EF553B",
           "#00cc96",
           "#ab63fa",
           "#FFA15A",
           "#19d3f3",
           "#FF6692",
           "#B6E880",
           "#FF97FF",
           "#FECB52"
          ],
          "font": {
           "color": "#2a3f5f"
          },
          "geo": {
           "bgcolor": "white",
           "lakecolor": "white",
           "landcolor": "#E5ECF6",
           "showlakes": true,
           "showland": true,
           "subunitcolor": "white"
          },
          "hoverlabel": {
           "align": "left"
          },
          "hovermode": "closest",
          "mapbox": {
           "style": "light"
          },
          "paper_bgcolor": "white",
          "plot_bgcolor": "#E5ECF6",
          "polar": {
           "angularaxis": {
            "gridcolor": "white",
            "linecolor": "white",
            "ticks": ""
           },
           "bgcolor": "#E5ECF6",
           "radialaxis": {
            "gridcolor": "white",
            "linecolor": "white",
            "ticks": ""
           }
          },
          "scene": {
           "xaxis": {
            "backgroundcolor": "#E5ECF6",
            "gridcolor": "white",
            "gridwidth": 2,
            "linecolor": "white",
            "showbackground": true,
            "ticks": "",
            "zerolinecolor": "white"
           },
           "yaxis": {
            "backgroundcolor": "#E5ECF6",
            "gridcolor": "white",
            "gridwidth": 2,
            "linecolor": "white",
            "showbackground": true,
            "ticks": "",
            "zerolinecolor": "white"
           },
           "zaxis": {
            "backgroundcolor": "#E5ECF6",
            "gridcolor": "white",
            "gridwidth": 2,
            "linecolor": "white",
            "showbackground": true,
            "ticks": "",
            "zerolinecolor": "white"
           }
          },
          "shapedefaults": {
           "line": {
            "color": "#2a3f5f"
           }
          },
          "ternary": {
           "aaxis": {
            "gridcolor": "white",
            "linecolor": "white",
            "ticks": ""
           },
           "baxis": {
            "gridcolor": "white",
            "linecolor": "white",
            "ticks": ""
           },
           "bgcolor": "#E5ECF6",
           "caxis": {
            "gridcolor": "white",
            "linecolor": "white",
            "ticks": ""
           }
          },
          "title": {
           "x": 0.05
          },
          "xaxis": {
           "automargin": true,
           "gridcolor": "white",
           "linecolor": "white",
           "ticks": "",
           "title": {
            "standoff": 15
           },
           "zerolinecolor": "white",
           "zerolinewidth": 2
          },
          "yaxis": {
           "automargin": true,
           "gridcolor": "white",
           "linecolor": "white",
           "ticks": "",
           "title": {
            "standoff": 15
           },
           "zerolinecolor": "white",
           "zerolinewidth": 2
          }
         }
        },
        "title": {
         "text": "Word count distribution in messages",
         "x": 0.5
        }
       }
      }
     },
     "metadata": {},
     "output_type": "display_data"
    }
   ],
   "source": [
    "word_count_distr_graph(word_counts_content, 'Word count distribution in messages')"
   ]
  },
  {
   "cell_type": "code",
   "execution_count": 67,
   "metadata": {},
   "outputs": [
    {
     "data": {
      "application/vnd.plotly.v1+json": {
       "config": {
        "plotlyServerURL": "https://plot.ly"
       },
       "data": [
        {
         "type": "bar",
         "x": [
          "the",
          "to",
          "of",
          "and",
          "a",
          "in",
          "for",
          "is",
          "that",
          "The",
          "on",
          "was",
          "be",
          "with",
          "has",
          "said",
          "it",
          "have",
          "as",
          "will",
          "at",
          "by",
          "are",
          "he",
          "from",
          "not",
          "-",
          "Mr",
          "his",
          "an"
         ],
         "y": [
          44482,
          24782,
          19833,
          17904,
          17135,
          16484,
          8637,
          8446,
          7528,
          7194,
          7146,
          5992,
          5738,
          5107,
          4932,
          4899,
          4859,
          4717,
          4652,
          4396,
          4385,
          4361,
          4331,
          4219,
          3473,
          3324,
          3195,
          2979,
          2825,
          2662
         ]
        }
       ],
       "layout": {
        "template": {
         "data": {
          "bar": [
           {
            "error_x": {
             "color": "#2a3f5f"
            },
            "error_y": {
             "color": "#2a3f5f"
            },
            "marker": {
             "line": {
              "color": "#E5ECF6",
              "width": 0.5
             },
             "pattern": {
              "fillmode": "overlay",
              "size": 10,
              "solidity": 0.2
             }
            },
            "type": "bar"
           }
          ],
          "barpolar": [
           {
            "marker": {
             "line": {
              "color": "#E5ECF6",
              "width": 0.5
             },
             "pattern": {
              "fillmode": "overlay",
              "size": 10,
              "solidity": 0.2
             }
            },
            "type": "barpolar"
           }
          ],
          "carpet": [
           {
            "aaxis": {
             "endlinecolor": "#2a3f5f",
             "gridcolor": "white",
             "linecolor": "white",
             "minorgridcolor": "white",
             "startlinecolor": "#2a3f5f"
            },
            "baxis": {
             "endlinecolor": "#2a3f5f",
             "gridcolor": "white",
             "linecolor": "white",
             "minorgridcolor": "white",
             "startlinecolor": "#2a3f5f"
            },
            "type": "carpet"
           }
          ],
          "choropleth": [
           {
            "colorbar": {
             "outlinewidth": 0,
             "ticks": ""
            },
            "type": "choropleth"
           }
          ],
          "contour": [
           {
            "colorbar": {
             "outlinewidth": 0,
             "ticks": ""
            },
            "colorscale": [
             [
              0,
              "#0d0887"
             ],
             [
              0.1111111111111111,
              "#46039f"
             ],
             [
              0.2222222222222222,
              "#7201a8"
             ],
             [
              0.3333333333333333,
              "#9c179e"
             ],
             [
              0.4444444444444444,
              "#bd3786"
             ],
             [
              0.5555555555555556,
              "#d8576b"
             ],
             [
              0.6666666666666666,
              "#ed7953"
             ],
             [
              0.7777777777777778,
              "#fb9f3a"
             ],
             [
              0.8888888888888888,
              "#fdca26"
             ],
             [
              1,
              "#f0f921"
             ]
            ],
            "type": "contour"
           }
          ],
          "contourcarpet": [
           {
            "colorbar": {
             "outlinewidth": 0,
             "ticks": ""
            },
            "type": "contourcarpet"
           }
          ],
          "heatmap": [
           {
            "colorbar": {
             "outlinewidth": 0,
             "ticks": ""
            },
            "colorscale": [
             [
              0,
              "#0d0887"
             ],
             [
              0.1111111111111111,
              "#46039f"
             ],
             [
              0.2222222222222222,
              "#7201a8"
             ],
             [
              0.3333333333333333,
              "#9c179e"
             ],
             [
              0.4444444444444444,
              "#bd3786"
             ],
             [
              0.5555555555555556,
              "#d8576b"
             ],
             [
              0.6666666666666666,
              "#ed7953"
             ],
             [
              0.7777777777777778,
              "#fb9f3a"
             ],
             [
              0.8888888888888888,
              "#fdca26"
             ],
             [
              1,
              "#f0f921"
             ]
            ],
            "type": "heatmap"
           }
          ],
          "heatmapgl": [
           {
            "colorbar": {
             "outlinewidth": 0,
             "ticks": ""
            },
            "colorscale": [
             [
              0,
              "#0d0887"
             ],
             [
              0.1111111111111111,
              "#46039f"
             ],
             [
              0.2222222222222222,
              "#7201a8"
             ],
             [
              0.3333333333333333,
              "#9c179e"
             ],
             [
              0.4444444444444444,
              "#bd3786"
             ],
             [
              0.5555555555555556,
              "#d8576b"
             ],
             [
              0.6666666666666666,
              "#ed7953"
             ],
             [
              0.7777777777777778,
              "#fb9f3a"
             ],
             [
              0.8888888888888888,
              "#fdca26"
             ],
             [
              1,
              "#f0f921"
             ]
            ],
            "type": "heatmapgl"
           }
          ],
          "histogram": [
           {
            "marker": {
             "pattern": {
              "fillmode": "overlay",
              "size": 10,
              "solidity": 0.2
             }
            },
            "type": "histogram"
           }
          ],
          "histogram2d": [
           {
            "colorbar": {
             "outlinewidth": 0,
             "ticks": ""
            },
            "colorscale": [
             [
              0,
              "#0d0887"
             ],
             [
              0.1111111111111111,
              "#46039f"
             ],
             [
              0.2222222222222222,
              "#7201a8"
             ],
             [
              0.3333333333333333,
              "#9c179e"
             ],
             [
              0.4444444444444444,
              "#bd3786"
             ],
             [
              0.5555555555555556,
              "#d8576b"
             ],
             [
              0.6666666666666666,
              "#ed7953"
             ],
             [
              0.7777777777777778,
              "#fb9f3a"
             ],
             [
              0.8888888888888888,
              "#fdca26"
             ],
             [
              1,
              "#f0f921"
             ]
            ],
            "type": "histogram2d"
           }
          ],
          "histogram2dcontour": [
           {
            "colorbar": {
             "outlinewidth": 0,
             "ticks": ""
            },
            "colorscale": [
             [
              0,
              "#0d0887"
             ],
             [
              0.1111111111111111,
              "#46039f"
             ],
             [
              0.2222222222222222,
              "#7201a8"
             ],
             [
              0.3333333333333333,
              "#9c179e"
             ],
             [
              0.4444444444444444,
              "#bd3786"
             ],
             [
              0.5555555555555556,
              "#d8576b"
             ],
             [
              0.6666666666666666,
              "#ed7953"
             ],
             [
              0.7777777777777778,
              "#fb9f3a"
             ],
             [
              0.8888888888888888,
              "#fdca26"
             ],
             [
              1,
              "#f0f921"
             ]
            ],
            "type": "histogram2dcontour"
           }
          ],
          "mesh3d": [
           {
            "colorbar": {
             "outlinewidth": 0,
             "ticks": ""
            },
            "type": "mesh3d"
           }
          ],
          "parcoords": [
           {
            "line": {
             "colorbar": {
              "outlinewidth": 0,
              "ticks": ""
             }
            },
            "type": "parcoords"
           }
          ],
          "pie": [
           {
            "automargin": true,
            "type": "pie"
           }
          ],
          "scatter": [
           {
            "fillpattern": {
             "fillmode": "overlay",
             "size": 10,
             "solidity": 0.2
            },
            "type": "scatter"
           }
          ],
          "scatter3d": [
           {
            "line": {
             "colorbar": {
              "outlinewidth": 0,
              "ticks": ""
             }
            },
            "marker": {
             "colorbar": {
              "outlinewidth": 0,
              "ticks": ""
             }
            },
            "type": "scatter3d"
           }
          ],
          "scattercarpet": [
           {
            "marker": {
             "colorbar": {
              "outlinewidth": 0,
              "ticks": ""
             }
            },
            "type": "scattercarpet"
           }
          ],
          "scattergeo": [
           {
            "marker": {
             "colorbar": {
              "outlinewidth": 0,
              "ticks": ""
             }
            },
            "type": "scattergeo"
           }
          ],
          "scattergl": [
           {
            "marker": {
             "colorbar": {
              "outlinewidth": 0,
              "ticks": ""
             }
            },
            "type": "scattergl"
           }
          ],
          "scattermapbox": [
           {
            "marker": {
             "colorbar": {
              "outlinewidth": 0,
              "ticks": ""
             }
            },
            "type": "scattermapbox"
           }
          ],
          "scatterpolar": [
           {
            "marker": {
             "colorbar": {
              "outlinewidth": 0,
              "ticks": ""
             }
            },
            "type": "scatterpolar"
           }
          ],
          "scatterpolargl": [
           {
            "marker": {
             "colorbar": {
              "outlinewidth": 0,
              "ticks": ""
             }
            },
            "type": "scatterpolargl"
           }
          ],
          "scatterternary": [
           {
            "marker": {
             "colorbar": {
              "outlinewidth": 0,
              "ticks": ""
             }
            },
            "type": "scatterternary"
           }
          ],
          "surface": [
           {
            "colorbar": {
             "outlinewidth": 0,
             "ticks": ""
            },
            "colorscale": [
             [
              0,
              "#0d0887"
             ],
             [
              0.1111111111111111,
              "#46039f"
             ],
             [
              0.2222222222222222,
              "#7201a8"
             ],
             [
              0.3333333333333333,
              "#9c179e"
             ],
             [
              0.4444444444444444,
              "#bd3786"
             ],
             [
              0.5555555555555556,
              "#d8576b"
             ],
             [
              0.6666666666666666,
              "#ed7953"
             ],
             [
              0.7777777777777778,
              "#fb9f3a"
             ],
             [
              0.8888888888888888,
              "#fdca26"
             ],
             [
              1,
              "#f0f921"
             ]
            ],
            "type": "surface"
           }
          ],
          "table": [
           {
            "cells": {
             "fill": {
              "color": "#EBF0F8"
             },
             "line": {
              "color": "white"
             }
            },
            "header": {
             "fill": {
              "color": "#C8D4E3"
             },
             "line": {
              "color": "white"
             }
            },
            "type": "table"
           }
          ]
         },
         "layout": {
          "annotationdefaults": {
           "arrowcolor": "#2a3f5f",
           "arrowhead": 0,
           "arrowwidth": 1
          },
          "autotypenumbers": "strict",
          "coloraxis": {
           "colorbar": {
            "outlinewidth": 0,
            "ticks": ""
           }
          },
          "colorscale": {
           "diverging": [
            [
             0,
             "#8e0152"
            ],
            [
             0.1,
             "#c51b7d"
            ],
            [
             0.2,
             "#de77ae"
            ],
            [
             0.3,
             "#f1b6da"
            ],
            [
             0.4,
             "#fde0ef"
            ],
            [
             0.5,
             "#f7f7f7"
            ],
            [
             0.6,
             "#e6f5d0"
            ],
            [
             0.7,
             "#b8e186"
            ],
            [
             0.8,
             "#7fbc41"
            ],
            [
             0.9,
             "#4d9221"
            ],
            [
             1,
             "#276419"
            ]
           ],
           "sequential": [
            [
             0,
             "#0d0887"
            ],
            [
             0.1111111111111111,
             "#46039f"
            ],
            [
             0.2222222222222222,
             "#7201a8"
            ],
            [
             0.3333333333333333,
             "#9c179e"
            ],
            [
             0.4444444444444444,
             "#bd3786"
            ],
            [
             0.5555555555555556,
             "#d8576b"
            ],
            [
             0.6666666666666666,
             "#ed7953"
            ],
            [
             0.7777777777777778,
             "#fb9f3a"
            ],
            [
             0.8888888888888888,
             "#fdca26"
            ],
            [
             1,
             "#f0f921"
            ]
           ],
           "sequentialminus": [
            [
             0,
             "#0d0887"
            ],
            [
             0.1111111111111111,
             "#46039f"
            ],
            [
             0.2222222222222222,
             "#7201a8"
            ],
            [
             0.3333333333333333,
             "#9c179e"
            ],
            [
             0.4444444444444444,
             "#bd3786"
            ],
            [
             0.5555555555555556,
             "#d8576b"
            ],
            [
             0.6666666666666666,
             "#ed7953"
            ],
            [
             0.7777777777777778,
             "#fb9f3a"
            ],
            [
             0.8888888888888888,
             "#fdca26"
            ],
            [
             1,
             "#f0f921"
            ]
           ]
          },
          "colorway": [
           "#636efa",
           "#EF553B",
           "#00cc96",
           "#ab63fa",
           "#FFA15A",
           "#19d3f3",
           "#FF6692",
           "#B6E880",
           "#FF97FF",
           "#FECB52"
          ],
          "font": {
           "color": "#2a3f5f"
          },
          "geo": {
           "bgcolor": "white",
           "lakecolor": "white",
           "landcolor": "#E5ECF6",
           "showlakes": true,
           "showland": true,
           "subunitcolor": "white"
          },
          "hoverlabel": {
           "align": "left"
          },
          "hovermode": "closest",
          "mapbox": {
           "style": "light"
          },
          "paper_bgcolor": "white",
          "plot_bgcolor": "#E5ECF6",
          "polar": {
           "angularaxis": {
            "gridcolor": "white",
            "linecolor": "white",
            "ticks": ""
           },
           "bgcolor": "#E5ECF6",
           "radialaxis": {
            "gridcolor": "white",
            "linecolor": "white",
            "ticks": ""
           }
          },
          "scene": {
           "xaxis": {
            "backgroundcolor": "#E5ECF6",
            "gridcolor": "white",
            "gridwidth": 2,
            "linecolor": "white",
            "showbackground": true,
            "ticks": "",
            "zerolinecolor": "white"
           },
           "yaxis": {
            "backgroundcolor": "#E5ECF6",
            "gridcolor": "white",
            "gridwidth": 2,
            "linecolor": "white",
            "showbackground": true,
            "ticks": "",
            "zerolinecolor": "white"
           },
           "zaxis": {
            "backgroundcolor": "#E5ECF6",
            "gridcolor": "white",
            "gridwidth": 2,
            "linecolor": "white",
            "showbackground": true,
            "ticks": "",
            "zerolinecolor": "white"
           }
          },
          "shapedefaults": {
           "line": {
            "color": "#2a3f5f"
           }
          },
          "ternary": {
           "aaxis": {
            "gridcolor": "white",
            "linecolor": "white",
            "ticks": ""
           },
           "baxis": {
            "gridcolor": "white",
            "linecolor": "white",
            "ticks": ""
           },
           "bgcolor": "#E5ECF6",
           "caxis": {
            "gridcolor": "white",
            "linecolor": "white",
            "ticks": ""
           }
          },
          "title": {
           "x": 0.05
          },
          "xaxis": {
           "automargin": true,
           "gridcolor": "white",
           "linecolor": "white",
           "ticks": "",
           "title": {
            "standoff": 15
           },
           "zerolinecolor": "white",
           "zerolinewidth": 2
          },
          "yaxis": {
           "automargin": true,
           "gridcolor": "white",
           "linecolor": "white",
           "ticks": "",
           "title": {
            "standoff": 15
           },
           "zerolinecolor": "white",
           "zerolinewidth": 2
          }
         }
        },
        "title": {
         "text": "Top 30 most frequent words in the text",
         "x": 0.5
        }
       }
      }
     },
     "metadata": {},
     "output_type": "display_data"
    }
   ],
   "source": [
    "from collections import Counter\n",
    "import plotly.graph_objects as go\n",
    "\n",
    "def plot_histogram_word(text_list, n_most_common=30, title=\"text\"):\n",
    "    # create a list of words\n",
    "    words = []\n",
    "    for txt in text_list:\n",
    "        words += txt.split()\n",
    "\n",
    "    # count the number of times each word appears in the text\n",
    "    word_counts = Counter(words)\n",
    "\n",
    "    # select the top 30 most frequent words\n",
    "    word_counts = dict(word_counts.most_common(n_most_common))\n",
    "\n",
    "    # create a bar chart\n",
    "    fig = go.Figure([go.Bar(x=list(word_counts.keys()), y=list(word_counts.values()))])\n",
    "    fig.update_layout(title_text=f'Top {n_most_common} most frequent words in the {title}', title_x=0.5)\n",
    "    fig.show()\n",
    "\n",
    "\n",
    "plot_histogram_word(df_content, 30, 'text')"
   ]
  },
  {
   "cell_type": "code",
   "execution_count": 63,
   "metadata": {},
   "outputs": [
    {
     "data": {
      "text/plain": [
       "['really',\n",
       " 'doing',\n",
       " 'became',\n",
       " 'n’t',\n",
       " 'at',\n",
       " 'again',\n",
       " 'over',\n",
       " 'did',\n",
       " 'these',\n",
       " 'above']"
      ]
     },
     "execution_count": 63,
     "metadata": {},
     "output_type": "execute_result"
    }
   ],
   "source": [
    "import spacy\n",
    "nlp = spacy.load('en_core_web_sm')\n",
    "stopwords_spacy = nlp.Defaults.stop_words\n",
    "list(stopwords_spacy)[:10]"
   ]
  },
  {
   "cell_type": "code",
   "execution_count": 64,
   "metadata": {},
   "outputs": [
    {
     "name": "stderr",
     "output_type": "stream",
     "text": [
      "[nltk_data] Downloading package stopwords to C:\\Users\\Alan de\n",
      "[nltk_data]     Castro\\AppData\\Roaming\\nltk_data...\n",
      "[nltk_data]   Package stopwords is already up-to-date!\n"
     ]
    },
    {
     "data": {
      "text/plain": [
       "['i', 'me', 'my', 'myself', 'we', 'our', 'ours', 'ourselves', 'you', \"you're\"]"
      ]
     },
     "execution_count": 64,
     "metadata": {},
     "output_type": "execute_result"
    }
   ],
   "source": [
    "import nltk\n",
    "\n",
    "from nltk.corpus import stopwords\n",
    "nltk.download('stopwords')\n",
    "stopwords_nltk = stopwords.words('english')\n",
    "\n",
    "list(stopwords_nltk)[:10]"
   ]
  },
  {
   "cell_type": "code",
   "execution_count": 65,
   "metadata": {},
   "outputs": [],
   "source": [
    "both_stopwords = set(stopwords_nltk) | set(stopwords_spacy)"
   ]
  }
 ],
 "metadata": {
  "kernelspec": {
   "display_name": "Python 3",
   "language": "python",
   "name": "python3"
  },
  "language_info": {
   "codemirror_mode": {
    "name": "ipython",
    "version": 3
   },
   "file_extension": ".py",
   "mimetype": "text/x-python",
   "name": "python",
   "nbconvert_exporter": "python",
   "pygments_lexer": "ipython3",
   "version": "3.11.4"
  }
 },
 "nbformat": 4,
 "nbformat_minor": 2
}
